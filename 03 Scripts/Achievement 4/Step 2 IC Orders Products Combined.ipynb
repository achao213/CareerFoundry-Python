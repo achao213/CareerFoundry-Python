{
 "cells": [
  {
   "cell_type": "markdown",
   "id": "0bcfd996",
   "metadata": {},
   "source": [
    "# Step 2 Instacart Orders Products Combined"
   ]
  },
  {
   "cell_type": "markdown",
   "id": "64868e43",
   "metadata": {},
   "source": [
    "## Table of Contents\n",
    "* [1. Introduction](#1.-Introduction)\n",
    "* [2. Importing data](#2.-Importing-Data)\n",
    "    * [2.1 Importing libraries](#2.1-Importing-Libraries)\n",
    "    * [2.2 Importing data](#2.2-Importing-Data)\n",
    "* [3. Data combining](#3.-Data-Combining)\n",
    "    * [3.1 RAM memory space](#3.1-RAM-Memory-Space)\n",
    "    * [3.2 Key variable](#3.2-Key-Variable)\n",
    "    * [3.3 Merge](#3.3-Merge)\n",
    "* [4. Exporting data](#4.-Exporting-Data) "
   ]
  },
  {
   "cell_type": "markdown",
   "id": "43629cd1",
   "metadata": {},
   "source": [
    "# 1. Introduction"
   ]
  },
  {
   "cell_type": "markdown",
   "id": "5bb73c80",
   "metadata": {},
   "source": [
    "Instacart's research question will be answered by merging every relevant dataframes. The Orders Products Prior dataframe and the Order dataframe will be integrated initially. By displaying all of the shopping items connected to each of the 3,421,083 total orders, this integration will improve each individual order.\n"
   ]
  },
  {
   "cell_type": "markdown",
   "id": "c37a5628",
   "metadata": {},
   "source": [
    "# 2. Importing Data"
   ]
  },
  {
   "cell_type": "markdown",
   "id": "faeb1448",
   "metadata": {},
   "source": [
    "## 2.1 Importing Libraries"
   ]
  },
  {
   "cell_type": "code",
   "execution_count": 1,
   "id": "4a023fa4",
   "metadata": {},
   "outputs": [],
   "source": [
    "import pandas as pd\n",
    "import numpy as np\n",
    "import os"
   ]
  },
  {
   "cell_type": "markdown",
   "id": "179ff516",
   "metadata": {},
   "source": [
    "## 2.2 Importing Data"
   ]
  },
  {
   "cell_type": "code",
   "execution_count": 2,
   "id": "73d1696e",
   "metadata": {},
   "outputs": [],
   "source": [
    "path = r'C:\\Users\\kuohe\\Instacart Basket Analysis 12-18-2023'"
   ]
  },
  {
   "cell_type": "markdown",
   "id": "b51713c5",
   "metadata": {},
   "source": [
    "### Order"
   ]
  },
  {
   "cell_type": "code",
   "execution_count": 3,
   "id": "adb79e42",
   "metadata": {},
   "outputs": [],
   "source": [
    "orders = pd.read_csv(os.path.join(path, '02 Data', 'Prepared data', 'orders_step1.csv'), index_col = False)"
   ]
  },
  {
   "cell_type": "code",
   "execution_count": 4,
   "id": "a72f7604",
   "metadata": {},
   "outputs": [
    {
     "data": {
      "text/plain": [
       "(3421083, 6)"
      ]
     },
     "execution_count": 4,
     "metadata": {},
     "output_type": "execute_result"
    }
   ],
   "source": [
    "orders.shape"
   ]
  },
  {
   "cell_type": "code",
   "execution_count": 5,
   "id": "9af7f2e7",
   "metadata": {},
   "outputs": [
    {
     "data": {
      "text/html": [
       "<div>\n",
       "<style scoped>\n",
       "    .dataframe tbody tr th:only-of-type {\n",
       "        vertical-align: middle;\n",
       "    }\n",
       "\n",
       "    .dataframe tbody tr th {\n",
       "        vertical-align: top;\n",
       "    }\n",
       "\n",
       "    .dataframe thead th {\n",
       "        text-align: right;\n",
       "    }\n",
       "</style>\n",
       "<table border=\"1\" class=\"dataframe\">\n",
       "  <thead>\n",
       "    <tr style=\"text-align: right;\">\n",
       "      <th></th>\n",
       "      <th>order_id</th>\n",
       "      <th>user_id</th>\n",
       "      <th>order_number</th>\n",
       "      <th>orders_day_of_week</th>\n",
       "      <th>order_hour_of_day</th>\n",
       "      <th>days_since_prior_order</th>\n",
       "    </tr>\n",
       "  </thead>\n",
       "  <tbody>\n",
       "    <tr>\n",
       "      <th>0</th>\n",
       "      <td>2539329</td>\n",
       "      <td>1</td>\n",
       "      <td>1</td>\n",
       "      <td>2</td>\n",
       "      <td>8</td>\n",
       "      <td>NaN</td>\n",
       "    </tr>\n",
       "    <tr>\n",
       "      <th>1</th>\n",
       "      <td>2398795</td>\n",
       "      <td>1</td>\n",
       "      <td>2</td>\n",
       "      <td>3</td>\n",
       "      <td>7</td>\n",
       "      <td>15.0</td>\n",
       "    </tr>\n",
       "    <tr>\n",
       "      <th>2</th>\n",
       "      <td>473747</td>\n",
       "      <td>1</td>\n",
       "      <td>3</td>\n",
       "      <td>3</td>\n",
       "      <td>12</td>\n",
       "      <td>21.0</td>\n",
       "    </tr>\n",
       "    <tr>\n",
       "      <th>3</th>\n",
       "      <td>2254736</td>\n",
       "      <td>1</td>\n",
       "      <td>4</td>\n",
       "      <td>4</td>\n",
       "      <td>7</td>\n",
       "      <td>29.0</td>\n",
       "    </tr>\n",
       "    <tr>\n",
       "      <th>4</th>\n",
       "      <td>431534</td>\n",
       "      <td>1</td>\n",
       "      <td>5</td>\n",
       "      <td>4</td>\n",
       "      <td>15</td>\n",
       "      <td>28.0</td>\n",
       "    </tr>\n",
       "  </tbody>\n",
       "</table>\n",
       "</div>"
      ],
      "text/plain": [
       "   order_id  user_id  order_number  orders_day_of_week  order_hour_of_day  \\\n",
       "0   2539329        1             1                   2                  8   \n",
       "1   2398795        1             2                   3                  7   \n",
       "2    473747        1             3                   3                 12   \n",
       "3   2254736        1             4                   4                  7   \n",
       "4    431534        1             5                   4                 15   \n",
       "\n",
       "   days_since_prior_order  \n",
       "0                     NaN  \n",
       "1                    15.0  \n",
       "2                    21.0  \n",
       "3                    29.0  \n",
       "4                    28.0  "
      ]
     },
     "execution_count": 5,
     "metadata": {},
     "output_type": "execute_result"
    }
   ],
   "source": [
    "orders.head()"
   ]
  },
  {
   "cell_type": "markdown",
   "id": "79b9d171",
   "metadata": {},
   "source": [
    "### Orders Products Prior"
   ]
  },
  {
   "cell_type": "code",
   "execution_count": 6,
   "id": "8f1f22a1",
   "metadata": {},
   "outputs": [],
   "source": [
    "orders_products_prior = pd.read_pickle(os.path.join(path, '02 Data', 'Prepared data', 'orders_products_prior_step1.pkl'))"
   ]
  },
  {
   "cell_type": "code",
   "execution_count": 7,
   "id": "aa32c74a",
   "metadata": {},
   "outputs": [
    {
     "data": {
      "text/plain": [
       "(32434489, 4)"
      ]
     },
     "execution_count": 7,
     "metadata": {},
     "output_type": "execute_result"
    }
   ],
   "source": [
    "orders_products_prior.shape"
   ]
  },
  {
   "cell_type": "code",
   "execution_count": 8,
   "id": "198b60ae",
   "metadata": {},
   "outputs": [
    {
     "data": {
      "text/html": [
       "<div>\n",
       "<style scoped>\n",
       "    .dataframe tbody tr th:only-of-type {\n",
       "        vertical-align: middle;\n",
       "    }\n",
       "\n",
       "    .dataframe tbody tr th {\n",
       "        vertical-align: top;\n",
       "    }\n",
       "\n",
       "    .dataframe thead th {\n",
       "        text-align: right;\n",
       "    }\n",
       "</style>\n",
       "<table border=\"1\" class=\"dataframe\">\n",
       "  <thead>\n",
       "    <tr style=\"text-align: right;\">\n",
       "      <th></th>\n",
       "      <th>order_id</th>\n",
       "      <th>product_id</th>\n",
       "      <th>add_to_cart_sequence</th>\n",
       "      <th>reordered</th>\n",
       "    </tr>\n",
       "  </thead>\n",
       "  <tbody>\n",
       "    <tr>\n",
       "      <th>0</th>\n",
       "      <td>2</td>\n",
       "      <td>33120</td>\n",
       "      <td>1</td>\n",
       "      <td>1</td>\n",
       "    </tr>\n",
       "    <tr>\n",
       "      <th>1</th>\n",
       "      <td>2</td>\n",
       "      <td>28985</td>\n",
       "      <td>2</td>\n",
       "      <td>1</td>\n",
       "    </tr>\n",
       "    <tr>\n",
       "      <th>2</th>\n",
       "      <td>2</td>\n",
       "      <td>9327</td>\n",
       "      <td>3</td>\n",
       "      <td>0</td>\n",
       "    </tr>\n",
       "    <tr>\n",
       "      <th>3</th>\n",
       "      <td>2</td>\n",
       "      <td>45918</td>\n",
       "      <td>4</td>\n",
       "      <td>1</td>\n",
       "    </tr>\n",
       "    <tr>\n",
       "      <th>4</th>\n",
       "      <td>2</td>\n",
       "      <td>30035</td>\n",
       "      <td>5</td>\n",
       "      <td>0</td>\n",
       "    </tr>\n",
       "  </tbody>\n",
       "</table>\n",
       "</div>"
      ],
      "text/plain": [
       "   order_id  product_id  add_to_cart_sequence  reordered\n",
       "0         2       33120                     1          1\n",
       "1         2       28985                     2          1\n",
       "2         2        9327                     3          0\n",
       "3         2       45918                     4          1\n",
       "4         2       30035                     5          0"
      ]
     },
     "execution_count": 8,
     "metadata": {},
     "output_type": "execute_result"
    }
   ],
   "source": [
    "orders_products_prior.head()"
   ]
  },
  {
   "cell_type": "markdown",
   "id": "351e8f6b",
   "metadata": {},
   "source": [
    "# 3. Combining the Data"
   ]
  },
  {
   "cell_type": "markdown",
   "id": "8e342fe8",
   "metadata": {},
   "source": [
    "## 3.1 RAM Memory Space"
   ]
  },
  {
   "cell_type": "markdown",
   "id": "08bf13f2",
   "metadata": {},
   "source": [
    "### Orders"
   ]
  },
  {
   "cell_type": "code",
   "execution_count": 9,
   "id": "5af98679",
   "metadata": {},
   "outputs": [
    {
     "data": {
      "text/plain": [
       "order_id                    int64\n",
       "user_id                     int64\n",
       "order_number                int64\n",
       "orders_day_of_week          int64\n",
       "order_hour_of_day           int64\n",
       "days_since_prior_order    float64\n",
       "dtype: object"
      ]
     },
     "execution_count": 9,
     "metadata": {},
     "output_type": "execute_result"
    }
   ],
   "source": [
    "# Taking a look at the data types to save memory\n",
    "orders.dtypes"
   ]
  },
  {
   "cell_type": "code",
   "execution_count": 10,
   "id": "58c9f785",
   "metadata": {},
   "outputs": [],
   "source": [
    "# Converting the data type to be more efficient\n",
    "orders['order_id'] = orders['order_id'].astype('int32')"
   ]
  },
  {
   "cell_type": "code",
   "execution_count": 11,
   "id": "c1b715c6",
   "metadata": {},
   "outputs": [],
   "source": [
    "# Converting the data type to be more efficient\n",
    "orders['user_id'] = orders['user_id'].astype('int32')"
   ]
  },
  {
   "cell_type": "code",
   "execution_count": 12,
   "id": "4d4dc5ff",
   "metadata": {},
   "outputs": [],
   "source": [
    "# Converting the data type to be more efficient\n",
    "orders['order_number'] = orders['order_number'].astype('int8')"
   ]
  },
  {
   "cell_type": "code",
   "execution_count": 13,
   "id": "4871e949",
   "metadata": {},
   "outputs": [],
   "source": [
    "# Converting the data type to be more efficient\n",
    "orders['orders_day_of_week'] = orders['orders_day_of_week'].astype('int8')"
   ]
  },
  {
   "cell_type": "code",
   "execution_count": 14,
   "id": "526c4ee5",
   "metadata": {},
   "outputs": [],
   "source": [
    "# Converting the data type to be more efficient\n",
    "orders['order_hour_of_day'] = orders['order_hour_of_day'].astype('int8')"
   ]
  },
  {
   "cell_type": "code",
   "execution_count": 16,
   "id": "6fb54879",
   "metadata": {},
   "outputs": [
    {
     "data": {
      "text/plain": [
       "order_id                    int32\n",
       "user_id                     int32\n",
       "order_number                 int8\n",
       "orders_day_of_week           int8\n",
       "order_hour_of_day            int8\n",
       "days_since_prior_order    float64\n",
       "dtype: object"
      ]
     },
     "execution_count": 16,
     "metadata": {},
     "output_type": "execute_result"
    }
   ],
   "source": [
    "# Checking if successful\n",
    "orders.dtypes"
   ]
  },
  {
   "cell_type": "markdown",
   "id": "eb8a262f",
   "metadata": {},
   "source": [
    "### Orders Product Prior"
   ]
  },
  {
   "cell_type": "code",
   "execution_count": 17,
   "id": "aae5c48a",
   "metadata": {},
   "outputs": [
    {
     "data": {
      "text/plain": [
       "order_id                int64\n",
       "product_id              int64\n",
       "add_to_cart_sequence    int64\n",
       "reordered               int64\n",
       "dtype: object"
      ]
     },
     "execution_count": 17,
     "metadata": {},
     "output_type": "execute_result"
    }
   ],
   "source": [
    "orders_products_prior.dtypes"
   ]
  },
  {
   "cell_type": "code",
   "execution_count": 18,
   "id": "9223c9a4",
   "metadata": {},
   "outputs": [],
   "source": [
    "# Converting the data type to be more efficient\n",
    "orders_products_prior['order_id'] = orders_products_prior['order_id'].astype('int32')"
   ]
  },
  {
   "cell_type": "code",
   "execution_count": 19,
   "id": "1d8f918b",
   "metadata": {},
   "outputs": [],
   "source": [
    "# Converting the data type to be more efficient\n",
    "orders_products_prior['product_id'] = orders_products_prior['product_id'].astype('int32')"
   ]
  },
  {
   "cell_type": "code",
   "execution_count": 20,
   "id": "b94f3bf6",
   "metadata": {},
   "outputs": [],
   "source": [
    "# Converting the data type to be more efficient\n",
    "orders_products_prior['add_to_cart_sequence'] = orders_products_prior['add_to_cart_sequence'].astype('int32')"
   ]
  },
  {
   "cell_type": "code",
   "execution_count": 21,
   "id": "7aeda231",
   "metadata": {},
   "outputs": [],
   "source": [
    "# Converting the data type to be more efficient\n",
    "orders_products_prior['reordered'] = orders_products_prior['reordered'].astype('int8')"
   ]
  },
  {
   "cell_type": "code",
   "execution_count": 22,
   "id": "80993a9b",
   "metadata": {},
   "outputs": [
    {
     "data": {
      "text/plain": [
       "order_id                int32\n",
       "product_id              int32\n",
       "add_to_cart_sequence    int32\n",
       "reordered                int8\n",
       "dtype: object"
      ]
     },
     "execution_count": 22,
     "metadata": {},
     "output_type": "execute_result"
    }
   ],
   "source": [
    "# Checking if successful\n",
    "orders_products_prior.dtypes"
   ]
  },
  {
   "cell_type": "markdown",
   "id": "00ce0e55",
   "metadata": {},
   "source": [
    "## Key Variables"
   ]
  },
  {
   "cell_type": "code",
   "execution_count": 23,
   "id": "8fe251b9",
   "metadata": {},
   "outputs": [
    {
     "data": {
      "text/plain": [
       "count    3.421083e+06\n",
       "mean     1.710542e+06\n",
       "std      9.875817e+05\n",
       "min      1.000000e+00\n",
       "25%      8.552715e+05\n",
       "50%      1.710542e+06\n",
       "75%      2.565812e+06\n",
       "max      3.421083e+06\n",
       "Name: order_id, dtype: float64"
      ]
     },
     "execution_count": 23,
     "metadata": {},
     "output_type": "execute_result"
    }
   ],
   "source": [
    "# Since order_id is shared among 2 dataframe, this will be the main focus for observation\n",
    "orders['order_id'].describe()"
   ]
  },
  {
   "cell_type": "code",
   "execution_count": 24,
   "id": "acee8137",
   "metadata": {},
   "outputs": [
    {
     "name": "stdout",
     "output_type": "stream",
     "text": [
      "The amount of values in 'order_id': 3421083\n"
     ]
    }
   ],
   "source": [
    "unique_orders = orders['order_id'].nunique()\n",
    "print(f\"The amount of values in 'order_id': {unique_orders}\")"
   ]
  },
  {
   "cell_type": "code",
   "execution_count": 25,
   "id": "a78e1059",
   "metadata": {},
   "outputs": [
    {
     "data": {
      "text/plain": [
       "count    3.243449e+07\n",
       "mean     1.710749e+06\n",
       "std      9.873007e+05\n",
       "min      2.000000e+00\n",
       "25%      8.559430e+05\n",
       "50%      1.711048e+06\n",
       "75%      2.565514e+06\n",
       "max      3.421083e+06\n",
       "Name: order_id, dtype: float64"
      ]
     },
     "execution_count": 25,
     "metadata": {},
     "output_type": "execute_result"
    }
   ],
   "source": [
    "# We will look at the order products prior for the \"order_id\" for observation\n",
    "orders_products_prior['order_id'].describe()"
   ]
  },
  {
   "cell_type": "code",
   "execution_count": 26,
   "id": "3ca65eb7",
   "metadata": {},
   "outputs": [
    {
     "name": "stdout",
     "output_type": "stream",
     "text": [
      "The amount of values in 'order_id': 3214874\n"
     ]
    }
   ],
   "source": [
    "unique_orders_products_prior = orders_products_prior['order_id'].nunique()\n",
    "print(f\"The amount of values in 'order_id': {unique_orders_products_prior}\")"
   ]
  },
  {
   "cell_type": "markdown",
   "id": "1940234a",
   "metadata": {},
   "source": [
    "# 3.3 Merge"
   ]
  },
  {
   "cell_type": "code",
   "execution_count": 27,
   "id": "3d22adbd",
   "metadata": {},
   "outputs": [],
   "source": [
    "# Merging the dataframes\n",
    "orders_products_combined = orders.merge(orders_products_prior, on = 'order_id')"
   ]
  },
  {
   "cell_type": "code",
   "execution_count": 28,
   "id": "9d751125",
   "metadata": {},
   "outputs": [
    {
     "data": {
      "text/html": [
       "<div>\n",
       "<style scoped>\n",
       "    .dataframe tbody tr th:only-of-type {\n",
       "        vertical-align: middle;\n",
       "    }\n",
       "\n",
       "    .dataframe tbody tr th {\n",
       "        vertical-align: top;\n",
       "    }\n",
       "\n",
       "    .dataframe thead th {\n",
       "        text-align: right;\n",
       "    }\n",
       "</style>\n",
       "<table border=\"1\" class=\"dataframe\">\n",
       "  <thead>\n",
       "    <tr style=\"text-align: right;\">\n",
       "      <th></th>\n",
       "      <th>order_id</th>\n",
       "      <th>user_id</th>\n",
       "      <th>order_number</th>\n",
       "      <th>orders_day_of_week</th>\n",
       "      <th>order_hour_of_day</th>\n",
       "      <th>days_since_prior_order</th>\n",
       "      <th>product_id</th>\n",
       "      <th>add_to_cart_sequence</th>\n",
       "      <th>reordered</th>\n",
       "    </tr>\n",
       "  </thead>\n",
       "  <tbody>\n",
       "    <tr>\n",
       "      <th>0</th>\n",
       "      <td>2539329</td>\n",
       "      <td>1</td>\n",
       "      <td>1</td>\n",
       "      <td>2</td>\n",
       "      <td>8</td>\n",
       "      <td>NaN</td>\n",
       "      <td>196</td>\n",
       "      <td>1</td>\n",
       "      <td>0</td>\n",
       "    </tr>\n",
       "    <tr>\n",
       "      <th>1</th>\n",
       "      <td>2539329</td>\n",
       "      <td>1</td>\n",
       "      <td>1</td>\n",
       "      <td>2</td>\n",
       "      <td>8</td>\n",
       "      <td>NaN</td>\n",
       "      <td>14084</td>\n",
       "      <td>2</td>\n",
       "      <td>0</td>\n",
       "    </tr>\n",
       "    <tr>\n",
       "      <th>2</th>\n",
       "      <td>2539329</td>\n",
       "      <td>1</td>\n",
       "      <td>1</td>\n",
       "      <td>2</td>\n",
       "      <td>8</td>\n",
       "      <td>NaN</td>\n",
       "      <td>12427</td>\n",
       "      <td>3</td>\n",
       "      <td>0</td>\n",
       "    </tr>\n",
       "    <tr>\n",
       "      <th>3</th>\n",
       "      <td>2539329</td>\n",
       "      <td>1</td>\n",
       "      <td>1</td>\n",
       "      <td>2</td>\n",
       "      <td>8</td>\n",
       "      <td>NaN</td>\n",
       "      <td>26088</td>\n",
       "      <td>4</td>\n",
       "      <td>0</td>\n",
       "    </tr>\n",
       "    <tr>\n",
       "      <th>4</th>\n",
       "      <td>2539329</td>\n",
       "      <td>1</td>\n",
       "      <td>1</td>\n",
       "      <td>2</td>\n",
       "      <td>8</td>\n",
       "      <td>NaN</td>\n",
       "      <td>26405</td>\n",
       "      <td>5</td>\n",
       "      <td>0</td>\n",
       "    </tr>\n",
       "  </tbody>\n",
       "</table>\n",
       "</div>"
      ],
      "text/plain": [
       "   order_id  user_id  order_number  orders_day_of_week  order_hour_of_day  \\\n",
       "0   2539329        1             1                   2                  8   \n",
       "1   2539329        1             1                   2                  8   \n",
       "2   2539329        1             1                   2                  8   \n",
       "3   2539329        1             1                   2                  8   \n",
       "4   2539329        1             1                   2                  8   \n",
       "\n",
       "   days_since_prior_order  product_id  add_to_cart_sequence  reordered  \n",
       "0                     NaN         196                     1          0  \n",
       "1                     NaN       14084                     2          0  \n",
       "2                     NaN       12427                     3          0  \n",
       "3                     NaN       26088                     4          0  \n",
       "4                     NaN       26405                     5          0  "
      ]
     },
     "execution_count": 28,
     "metadata": {},
     "output_type": "execute_result"
    }
   ],
   "source": [
    "# Checking if successful\n",
    "orders_products_combined.head()"
   ]
  },
  {
   "cell_type": "code",
   "execution_count": 29,
   "id": "8f19d054",
   "metadata": {},
   "outputs": [
    {
     "name": "stdout",
     "output_type": "stream",
     "text": [
      "The amount of values in 'order_id': 3214874\n"
     ]
    }
   ],
   "source": [
    "# Checking the amount of values in the combined order_id\n",
    "unique_orders_products_combined = orders_products_combined['order_id'].nunique()\n",
    "print(f\"The amount of values in 'order_id': {unique_orders_products_combined}\")"
   ]
  },
  {
   "cell_type": "markdown",
   "id": "4e6c3186",
   "metadata": {},
   "source": [
    "# 4. Exporting Data"
   ]
  },
  {
   "cell_type": "code",
   "execution_count": 30,
   "id": "6a5b346c",
   "metadata": {},
   "outputs": [
    {
     "data": {
      "text/plain": [
       "(32434489, 9)"
      ]
     },
     "execution_count": 30,
     "metadata": {},
     "output_type": "execute_result"
    }
   ],
   "source": [
    "orders_products_combined.shape"
   ]
  },
  {
   "cell_type": "code",
   "execution_count": 31,
   "id": "d02444fe",
   "metadata": {},
   "outputs": [
    {
     "data": {
      "text/html": [
       "<div>\n",
       "<style scoped>\n",
       "    .dataframe tbody tr th:only-of-type {\n",
       "        vertical-align: middle;\n",
       "    }\n",
       "\n",
       "    .dataframe tbody tr th {\n",
       "        vertical-align: top;\n",
       "    }\n",
       "\n",
       "    .dataframe thead th {\n",
       "        text-align: right;\n",
       "    }\n",
       "</style>\n",
       "<table border=\"1\" class=\"dataframe\">\n",
       "  <thead>\n",
       "    <tr style=\"text-align: right;\">\n",
       "      <th></th>\n",
       "      <th>order_id</th>\n",
       "      <th>user_id</th>\n",
       "      <th>order_number</th>\n",
       "      <th>orders_day_of_week</th>\n",
       "      <th>order_hour_of_day</th>\n",
       "      <th>days_since_prior_order</th>\n",
       "      <th>product_id</th>\n",
       "      <th>add_to_cart_sequence</th>\n",
       "      <th>reordered</th>\n",
       "    </tr>\n",
       "  </thead>\n",
       "  <tbody>\n",
       "    <tr>\n",
       "      <th>0</th>\n",
       "      <td>2539329</td>\n",
       "      <td>1</td>\n",
       "      <td>1</td>\n",
       "      <td>2</td>\n",
       "      <td>8</td>\n",
       "      <td>NaN</td>\n",
       "      <td>196</td>\n",
       "      <td>1</td>\n",
       "      <td>0</td>\n",
       "    </tr>\n",
       "    <tr>\n",
       "      <th>1</th>\n",
       "      <td>2539329</td>\n",
       "      <td>1</td>\n",
       "      <td>1</td>\n",
       "      <td>2</td>\n",
       "      <td>8</td>\n",
       "      <td>NaN</td>\n",
       "      <td>14084</td>\n",
       "      <td>2</td>\n",
       "      <td>0</td>\n",
       "    </tr>\n",
       "    <tr>\n",
       "      <th>2</th>\n",
       "      <td>2539329</td>\n",
       "      <td>1</td>\n",
       "      <td>1</td>\n",
       "      <td>2</td>\n",
       "      <td>8</td>\n",
       "      <td>NaN</td>\n",
       "      <td>12427</td>\n",
       "      <td>3</td>\n",
       "      <td>0</td>\n",
       "    </tr>\n",
       "    <tr>\n",
       "      <th>3</th>\n",
       "      <td>2539329</td>\n",
       "      <td>1</td>\n",
       "      <td>1</td>\n",
       "      <td>2</td>\n",
       "      <td>8</td>\n",
       "      <td>NaN</td>\n",
       "      <td>26088</td>\n",
       "      <td>4</td>\n",
       "      <td>0</td>\n",
       "    </tr>\n",
       "    <tr>\n",
       "      <th>4</th>\n",
       "      <td>2539329</td>\n",
       "      <td>1</td>\n",
       "      <td>1</td>\n",
       "      <td>2</td>\n",
       "      <td>8</td>\n",
       "      <td>NaN</td>\n",
       "      <td>26405</td>\n",
       "      <td>5</td>\n",
       "      <td>0</td>\n",
       "    </tr>\n",
       "  </tbody>\n",
       "</table>\n",
       "</div>"
      ],
      "text/plain": [
       "   order_id  user_id  order_number  orders_day_of_week  order_hour_of_day  \\\n",
       "0   2539329        1             1                   2                  8   \n",
       "1   2539329        1             1                   2                  8   \n",
       "2   2539329        1             1                   2                  8   \n",
       "3   2539329        1             1                   2                  8   \n",
       "4   2539329        1             1                   2                  8   \n",
       "\n",
       "   days_since_prior_order  product_id  add_to_cart_sequence  reordered  \n",
       "0                     NaN         196                     1          0  \n",
       "1                     NaN       14084                     2          0  \n",
       "2                     NaN       12427                     3          0  \n",
       "3                     NaN       26088                     4          0  \n",
       "4                     NaN       26405                     5          0  "
      ]
     },
     "execution_count": 31,
     "metadata": {},
     "output_type": "execute_result"
    }
   ],
   "source": [
    "orders_products_combined.head()"
   ]
  },
  {
   "cell_type": "code",
   "execution_count": 32,
   "id": "81990572",
   "metadata": {},
   "outputs": [],
   "source": [
    "# Exporting to prepared data folder\n",
    "# This will be exported as a pickle due to the large size of data\n",
    "orders_products_combined.to_pickle(os.path.join(path, '02 Data','Prepared data', 'orders_products_combined_step2.pkl'))"
   ]
  }
 ],
 "metadata": {
  "kernelspec": {
   "display_name": "Python 3 (ipykernel)",
   "language": "python",
   "name": "python3"
  },
  "language_info": {
   "codemirror_mode": {
    "name": "ipython",
    "version": 3
   },
   "file_extension": ".py",
   "mimetype": "text/x-python",
   "name": "python",
   "nbconvert_exporter": "python",
   "pygments_lexer": "ipython3",
   "version": "3.11.5"
  }
 },
 "nbformat": 4,
 "nbformat_minor": 5
}
