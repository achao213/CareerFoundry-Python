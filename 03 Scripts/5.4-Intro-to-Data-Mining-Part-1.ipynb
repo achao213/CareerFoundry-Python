{
 "cells": [
  {
   "cell_type": "markdown",
   "id": "1027c9de-6728-43b9-84a0-92a62cb7a754",
   "metadata": {},
   "source": [
    "#Contents List\n",
    "##Import Libraries \n",
    "##Create Path \n",
    "##Import CSV 5.4-PigEBank-Client-Data set\n",
    "##Permanantly dropping columns Row_Number and Last_Name from 5.4-PigEBank-Client-Data set.csv\n",
    "##Changing data type on column Customer_ID from a number to a string \n",
    "##Finding missing values in df_client dataframe\n",
    "##View 3 missing values in Credit Score\n",
    "##Imput the mean Credit Score to replace NaN's\n",
    "##View missing values in Gender\n",
    "##Imput the mode Gender to replace NaN\n",
    "##View missing values in Age\n",
    "##Imput the median Age to replace NaN\n",
    "##Changing data type on column Age from a float to a number\n",
    "##View missing values in Estimated Salary\n",
    "##Imput 0's in the Estimated Salary column to replace NaN\n",
    "##Finding missing values in df_client dataframe\n",
    "##View missing values in Gender\n",
    "##Imput Male in the Gender column to replace NaN (Male is the mode gender)\n",
    "##Finding missing values in df_client dataframe\n",
    "##Strip whitespace off column Estimated Salary\n",
    "##Strip '$' and',' off the Estimated Salary Column. \n",
    "##Changing data type on column Estimated Salary from a sting to a float\n",
    "##Strip '$' and',' off the Balance Column. \n",
    "##Changing data type on column Balance from a sting to a float\n",
    "##Changing data type on column HasCrCard? from a number to a string \n",
    "##Changing data type on column IsActiveMember from a number to a string \n",
    "##Changing data type on column ExitedFromBank? from a number to a string \n",
    "##Changing data type on column Credit Score from a float to a number\n",
    "##Imput the median Estimated Salary to replace NaN\n",
    "##Finding missing values in df_client_updated dataframe\n",
    "##Check for mixed types\n",
    "##Finding duplicates\n",
    "###Export final cleaned df_client_updated"
   ]
  },
  {
   "cell_type": "code",
   "execution_count": 1,
   "id": "ac0f5e5b-029b-4e1b-92f9-c1df004eb642",
   "metadata": {},
   "outputs": [],
   "source": [
    "#Import Libraries\n",
    "import pandas as pd\n",
    "import numpy as np\n",
    "import os\n",
    "import matplotlib.pyplot as plt\n",
    "import seaborn as sns\n",
    "import scipy"
   ]
  },
  {
   "cell_type": "code",
   "execution_count": 2,
   "id": "0a8261f8-0608-44c3-98f3-8c3f019c6c72",
   "metadata": {},
   "outputs": [],
   "source": [
    "#Path\n",
    "path = r'C:\\Users\\Family Computer\\Documents\\Data Analytics\\Pig E Bank Analysis'"
   ]
  },
  {
   "cell_type": "code",
   "execution_count": 7,
   "id": "35510870-8ace-4735-b594-373efeb5d2a1",
   "metadata": {},
   "outputs": [],
   "source": [
    "#Import CSV 5.4-PigEBank-Client-Data set\n",
    "df_client=pd.read_csv(os.path.join(path,'02 Data', 'Original Data', '5.4-PigEBank-Client-Data set.csv'))"
   ]
  },
  {
   "cell_type": "code",
   "execution_count": 8,
   "id": "c814f8c3-9a12-4e31-a4e1-159ccf36bc7d",
   "metadata": {},
   "outputs": [
    {
     "data": {
      "text/html": [
       "<div>\n",
       "<style scoped>\n",
       "    .dataframe tbody tr th:only-of-type {\n",
       "        vertical-align: middle;\n",
       "    }\n",
       "\n",
       "    .dataframe tbody tr th {\n",
       "        vertical-align: top;\n",
       "    }\n",
       "\n",
       "    .dataframe thead th {\n",
       "        text-align: right;\n",
       "    }\n",
       "</style>\n",
       "<table border=\"1\" class=\"dataframe\">\n",
       "  <thead>\n",
       "    <tr style=\"text-align: right;\">\n",
       "      <th></th>\n",
       "      <th>Row_Number</th>\n",
       "      <th>Customer_ID</th>\n",
       "      <th>Last_Name</th>\n",
       "      <th>Credit Score</th>\n",
       "      <th>Country</th>\n",
       "      <th>Gender</th>\n",
       "      <th>Age</th>\n",
       "      <th>Tenure</th>\n",
       "      <th>Balance</th>\n",
       "      <th>NumOfProducts</th>\n",
       "      <th>HasCrCard?</th>\n",
       "      <th>IsActiveMember</th>\n",
       "      <th>Estimated Salary</th>\n",
       "      <th>ExitedFromBank?</th>\n",
       "    </tr>\n",
       "  </thead>\n",
       "  <tbody>\n",
       "    <tr>\n",
       "      <th>0</th>\n",
       "      <td>1</td>\n",
       "      <td>15634602</td>\n",
       "      <td>Hargrave</td>\n",
       "      <td>619.0</td>\n",
       "      <td>France</td>\n",
       "      <td>Female</td>\n",
       "      <td>42.0</td>\n",
       "      <td>2</td>\n",
       "      <td>$0.00</td>\n",
       "      <td>1</td>\n",
       "      <td>1</td>\n",
       "      <td>1</td>\n",
       "      <td>$101,348.88</td>\n",
       "      <td>1</td>\n",
       "    </tr>\n",
       "    <tr>\n",
       "      <th>1</th>\n",
       "      <td>2</td>\n",
       "      <td>15647311</td>\n",
       "      <td>Hill</td>\n",
       "      <td>608.0</td>\n",
       "      <td>Spain</td>\n",
       "      <td>Female</td>\n",
       "      <td>41.0</td>\n",
       "      <td>1</td>\n",
       "      <td>$83,807.86</td>\n",
       "      <td>1</td>\n",
       "      <td>0</td>\n",
       "      <td>1</td>\n",
       "      <td>$112,542.58</td>\n",
       "      <td>0</td>\n",
       "    </tr>\n",
       "    <tr>\n",
       "      <th>2</th>\n",
       "      <td>3</td>\n",
       "      <td>15619304</td>\n",
       "      <td>Onio</td>\n",
       "      <td>502.0</td>\n",
       "      <td>France</td>\n",
       "      <td>Female</td>\n",
       "      <td>42.0</td>\n",
       "      <td>8</td>\n",
       "      <td>$159,660.80</td>\n",
       "      <td>3</td>\n",
       "      <td>1</td>\n",
       "      <td>0</td>\n",
       "      <td>$113,931.57</td>\n",
       "      <td>1</td>\n",
       "    </tr>\n",
       "    <tr>\n",
       "      <th>3</th>\n",
       "      <td>4</td>\n",
       "      <td>15701354</td>\n",
       "      <td>Boni</td>\n",
       "      <td>699.0</td>\n",
       "      <td>France</td>\n",
       "      <td>Female</td>\n",
       "      <td>39.0</td>\n",
       "      <td>1</td>\n",
       "      <td>$0.00</td>\n",
       "      <td>2</td>\n",
       "      <td>0</td>\n",
       "      <td>0</td>\n",
       "      <td>$93,826.63</td>\n",
       "      <td>0</td>\n",
       "    </tr>\n",
       "    <tr>\n",
       "      <th>4</th>\n",
       "      <td>5</td>\n",
       "      <td>15737888</td>\n",
       "      <td>Mitchell</td>\n",
       "      <td>850.0</td>\n",
       "      <td>Spain</td>\n",
       "      <td>Female</td>\n",
       "      <td>43.0</td>\n",
       "      <td>2</td>\n",
       "      <td>$125,510.82</td>\n",
       "      <td>1</td>\n",
       "      <td>1</td>\n",
       "      <td>1</td>\n",
       "      <td>$79,084.10</td>\n",
       "      <td>0</td>\n",
       "    </tr>\n",
       "  </tbody>\n",
       "</table>\n",
       "</div>"
      ],
      "text/plain": [
       "   Row_Number  Customer_ID Last_Name  Credit Score Country  Gender   Age  \\\n",
       "0           1     15634602  Hargrave         619.0  France  Female  42.0   \n",
       "1           2     15647311      Hill         608.0   Spain  Female  41.0   \n",
       "2           3     15619304      Onio         502.0  France  Female  42.0   \n",
       "3           4     15701354      Boni         699.0  France  Female  39.0   \n",
       "4           5     15737888  Mitchell         850.0   Spain  Female  43.0   \n",
       "\n",
       "   Tenure       Balance  NumOfProducts  HasCrCard?  IsActiveMember  \\\n",
       "0       2        $0.00               1           1               1   \n",
       "1       1   $83,807.86               1           0               1   \n",
       "2       8  $159,660.80               3           1               0   \n",
       "3       1        $0.00               2           0               0   \n",
       "4       2  $125,510.82               1           1               1   \n",
       "\n",
       "  Estimated Salary  ExitedFromBank?  \n",
       "0     $101,348.88                 1  \n",
       "1     $112,542.58                 0  \n",
       "2     $113,931.57                 1  \n",
       "3      $93,826.63                 0  \n",
       "4      $79,084.10                 0  "
      ]
     },
     "execution_count": 8,
     "metadata": {},
     "output_type": "execute_result"
    }
   ],
   "source": [
    "df_client.head()"
   ]
  },
  {
   "cell_type": "code",
   "execution_count": 10,
   "id": "da7a8217-3b24-47f7-a6e5-591298059585",
   "metadata": {},
   "outputs": [
    {
     "data": {
      "text/plain": [
       "(991, 14)"
      ]
     },
     "execution_count": 10,
     "metadata": {},
     "output_type": "execute_result"
    }
   ],
   "source": [
    "df_client.shape"
   ]
  },
  {
   "cell_type": "code",
   "execution_count": 12,
   "id": "f16c18f6-a4a9-4b13-8294-1e1f274b3dd1",
   "metadata": {},
   "outputs": [
    {
     "name": "stdout",
     "output_type": "stream",
     "text": [
      "<class 'pandas.core.frame.DataFrame'>\n",
      "RangeIndex: 991 entries, 0 to 990\n",
      "Data columns (total 14 columns):\n",
      " #   Column            Non-Null Count  Dtype  \n",
      "---  ------            --------------  -----  \n",
      " 0   Row_Number        991 non-null    int64  \n",
      " 1   Customer_ID       991 non-null    int64  \n",
      " 2   Last_Name         990 non-null    object \n",
      " 3   Credit Score      988 non-null    float64\n",
      " 4   Country           991 non-null    object \n",
      " 5   Gender            990 non-null    object \n",
      " 6   Age               990 non-null    float64\n",
      " 7   Tenure            991 non-null    int64  \n",
      " 8   Balance           991 non-null    object \n",
      " 9   NumOfProducts     991 non-null    int64  \n",
      " 10  HasCrCard?        991 non-null    int64  \n",
      " 11  IsActiveMember    991 non-null    int64  \n",
      " 12  Estimated Salary  989 non-null    object \n",
      " 13  ExitedFromBank?   991 non-null    int64  \n",
      "dtypes: float64(2), int64(7), object(5)\n",
      "memory usage: 108.5+ KB\n"
     ]
    }
   ],
   "source": [
    "df_client.info()"
   ]
  },
  {
   "cell_type": "code",
   "execution_count": 13,
   "id": "02720c20-a586-4c16-9d07-f4b47d51eb1f",
   "metadata": {},
   "outputs": [
    {
     "data": {
      "text/plain": [
       "Row_Number            int64\n",
       "Customer_ID           int64\n",
       "Last_Name            object\n",
       "Credit Score        float64\n",
       "Country              object\n",
       "Gender               object\n",
       "Age                 float64\n",
       "Tenure                int64\n",
       "Balance              object\n",
       "NumOfProducts         int64\n",
       "HasCrCard?            int64\n",
       "IsActiveMember        int64\n",
       "Estimated Salary     object\n",
       "ExitedFromBank?       int64\n",
       "dtype: object"
      ]
     },
     "execution_count": 13,
     "metadata": {},
     "output_type": "execute_result"
    }
   ],
   "source": [
    "df_client.dtypes"
   ]
  },
  {
   "cell_type": "code",
   "execution_count": 14,
   "id": "f2926048-ba28-4928-9d9e-0e839648c3df",
   "metadata": {},
   "outputs": [
    {
     "data": {
      "text/html": [
       "<div>\n",
       "<style scoped>\n",
       "    .dataframe tbody tr th:only-of-type {\n",
       "        vertical-align: middle;\n",
       "    }\n",
       "\n",
       "    .dataframe tbody tr th {\n",
       "        vertical-align: top;\n",
       "    }\n",
       "\n",
       "    .dataframe thead th {\n",
       "        text-align: right;\n",
       "    }\n",
       "</style>\n",
       "<table border=\"1\" class=\"dataframe\">\n",
       "  <thead>\n",
       "    <tr style=\"text-align: right;\">\n",
       "      <th></th>\n",
       "      <th>Row_Number</th>\n",
       "      <th>Customer_ID</th>\n",
       "      <th>Credit Score</th>\n",
       "      <th>Age</th>\n",
       "      <th>Tenure</th>\n",
       "      <th>NumOfProducts</th>\n",
       "      <th>HasCrCard?</th>\n",
       "      <th>IsActiveMember</th>\n",
       "      <th>ExitedFromBank?</th>\n",
       "    </tr>\n",
       "  </thead>\n",
       "  <tbody>\n",
       "    <tr>\n",
       "      <th>count</th>\n",
       "      <td>991.00000</td>\n",
       "      <td>9.910000e+02</td>\n",
       "      <td>988.000000</td>\n",
       "      <td>990.000000</td>\n",
       "      <td>991.000000</td>\n",
       "      <td>991.000000</td>\n",
       "      <td>991.000000</td>\n",
       "      <td>991.000000</td>\n",
       "      <td>991.000000</td>\n",
       "    </tr>\n",
       "    <tr>\n",
       "      <th>mean</th>\n",
       "      <td>496.00000</td>\n",
       "      <td>1.569232e+07</td>\n",
       "      <td>648.512146</td>\n",
       "      <td>38.684848</td>\n",
       "      <td>5.066599</td>\n",
       "      <td>1.522704</td>\n",
       "      <td>0.706357</td>\n",
       "      <td>0.507568</td>\n",
       "      <td>0.205853</td>\n",
       "    </tr>\n",
       "    <tr>\n",
       "      <th>std</th>\n",
       "      <td>286.22136</td>\n",
       "      <td>7.223333e+04</td>\n",
       "      <td>98.202853</td>\n",
       "      <td>10.958220</td>\n",
       "      <td>2.928371</td>\n",
       "      <td>0.573170</td>\n",
       "      <td>0.455660</td>\n",
       "      <td>0.500195</td>\n",
       "      <td>0.404527</td>\n",
       "    </tr>\n",
       "    <tr>\n",
       "      <th>min</th>\n",
       "      <td>1.00000</td>\n",
       "      <td>1.556609e+07</td>\n",
       "      <td>376.000000</td>\n",
       "      <td>2.000000</td>\n",
       "      <td>0.000000</td>\n",
       "      <td>1.000000</td>\n",
       "      <td>0.000000</td>\n",
       "      <td>0.000000</td>\n",
       "      <td>0.000000</td>\n",
       "    </tr>\n",
       "    <tr>\n",
       "      <th>25%</th>\n",
       "      <td>248.50000</td>\n",
       "      <td>1.563019e+07</td>\n",
       "      <td>579.750000</td>\n",
       "      <td>32.000000</td>\n",
       "      <td>2.000000</td>\n",
       "      <td>1.000000</td>\n",
       "      <td>0.000000</td>\n",
       "      <td>0.000000</td>\n",
       "      <td>0.000000</td>\n",
       "    </tr>\n",
       "    <tr>\n",
       "      <th>50%</th>\n",
       "      <td>496.00000</td>\n",
       "      <td>1.569275e+07</td>\n",
       "      <td>653.500000</td>\n",
       "      <td>37.000000</td>\n",
       "      <td>5.000000</td>\n",
       "      <td>1.000000</td>\n",
       "      <td>1.000000</td>\n",
       "      <td>1.000000</td>\n",
       "      <td>0.000000</td>\n",
       "    </tr>\n",
       "    <tr>\n",
       "      <th>75%</th>\n",
       "      <td>743.50000</td>\n",
       "      <td>1.575379e+07</td>\n",
       "      <td>721.000000</td>\n",
       "      <td>44.000000</td>\n",
       "      <td>8.000000</td>\n",
       "      <td>2.000000</td>\n",
       "      <td>1.000000</td>\n",
       "      <td>1.000000</td>\n",
       "      <td>0.000000</td>\n",
       "    </tr>\n",
       "    <tr>\n",
       "      <th>max</th>\n",
       "      <td>991.00000</td>\n",
       "      <td>1.581536e+07</td>\n",
       "      <td>850.000000</td>\n",
       "      <td>82.000000</td>\n",
       "      <td>10.000000</td>\n",
       "      <td>4.000000</td>\n",
       "      <td>1.000000</td>\n",
       "      <td>1.000000</td>\n",
       "      <td>1.000000</td>\n",
       "    </tr>\n",
       "  </tbody>\n",
       "</table>\n",
       "</div>"
      ],
      "text/plain": [
       "       Row_Number   Customer_ID  Credit Score         Age      Tenure  \\\n",
       "count   991.00000  9.910000e+02    988.000000  990.000000  991.000000   \n",
       "mean    496.00000  1.569232e+07    648.512146   38.684848    5.066599   \n",
       "std     286.22136  7.223333e+04     98.202853   10.958220    2.928371   \n",
       "min       1.00000  1.556609e+07    376.000000    2.000000    0.000000   \n",
       "25%     248.50000  1.563019e+07    579.750000   32.000000    2.000000   \n",
       "50%     496.00000  1.569275e+07    653.500000   37.000000    5.000000   \n",
       "75%     743.50000  1.575379e+07    721.000000   44.000000    8.000000   \n",
       "max     991.00000  1.581536e+07    850.000000   82.000000   10.000000   \n",
       "\n",
       "       NumOfProducts  HasCrCard?  IsActiveMember  ExitedFromBank?  \n",
       "count     991.000000  991.000000      991.000000       991.000000  \n",
       "mean        1.522704    0.706357        0.507568         0.205853  \n",
       "std         0.573170    0.455660        0.500195         0.404527  \n",
       "min         1.000000    0.000000        0.000000         0.000000  \n",
       "25%         1.000000    0.000000        0.000000         0.000000  \n",
       "50%         1.000000    1.000000        1.000000         0.000000  \n",
       "75%         2.000000    1.000000        1.000000         0.000000  \n",
       "max         4.000000    1.000000        1.000000         1.000000  "
      ]
     },
     "execution_count": 14,
     "metadata": {},
     "output_type": "execute_result"
    }
   ],
   "source": [
    "df_client.describe()"
   ]
  },
  {
   "cell_type": "code",
   "execution_count": 25,
   "id": "eed3d8bf-78de-4b41-8744-10be88960172",
   "metadata": {},
   "outputs": [
    {
     "ename": "KeyError",
     "evalue": "\"['Row_Number', 'Last_Name'] not found in axis\"",
     "output_type": "error",
     "traceback": [
      "\u001b[1;31m---------------------------------------------------------------------------\u001b[0m",
      "\u001b[1;31mKeyError\u001b[0m                                  Traceback (most recent call last)",
      "Cell \u001b[1;32mIn[25], line 2\u001b[0m\n\u001b[0;32m      1\u001b[0m \u001b[38;5;66;03m#Permanantly dropping columns Row_Number and Last_Name from 5.4-PigEBank-Client-Data set.csv\u001b[39;00m\n\u001b[1;32m----> 2\u001b[0m df_client \u001b[38;5;241m=\u001b[39m df_client\u001b[38;5;241m.\u001b[39mdrop(columns \u001b[38;5;241m=\u001b[39m [\u001b[38;5;124m'\u001b[39m\u001b[38;5;124mRow_Number\u001b[39m\u001b[38;5;124m'\u001b[39m, \u001b[38;5;124m'\u001b[39m\u001b[38;5;124mLast_Name\u001b[39m\u001b[38;5;124m'\u001b[39m])\n",
      "File \u001b[1;32mD:\\DataAlalytics\\Anaconda3\\Lib\\site-packages\\pandas\\core\\frame.py:5344\u001b[0m, in \u001b[0;36mDataFrame.drop\u001b[1;34m(self, labels, axis, index, columns, level, inplace, errors)\u001b[0m\n\u001b[0;32m   5196\u001b[0m \u001b[38;5;28;01mdef\u001b[39;00m \u001b[38;5;21mdrop\u001b[39m(\n\u001b[0;32m   5197\u001b[0m     \u001b[38;5;28mself\u001b[39m,\n\u001b[0;32m   5198\u001b[0m     labels: IndexLabel \u001b[38;5;241m|\u001b[39m \u001b[38;5;28;01mNone\u001b[39;00m \u001b[38;5;241m=\u001b[39m \u001b[38;5;28;01mNone\u001b[39;00m,\n\u001b[1;32m   (...)\u001b[0m\n\u001b[0;32m   5205\u001b[0m     errors: IgnoreRaise \u001b[38;5;241m=\u001b[39m \u001b[38;5;124m\"\u001b[39m\u001b[38;5;124mraise\u001b[39m\u001b[38;5;124m\"\u001b[39m,\n\u001b[0;32m   5206\u001b[0m ) \u001b[38;5;241m-\u001b[39m\u001b[38;5;241m>\u001b[39m DataFrame \u001b[38;5;241m|\u001b[39m \u001b[38;5;28;01mNone\u001b[39;00m:\n\u001b[0;32m   5207\u001b[0m \u001b[38;5;250m    \u001b[39m\u001b[38;5;124;03m\"\"\"\u001b[39;00m\n\u001b[0;32m   5208\u001b[0m \u001b[38;5;124;03m    Drop specified labels from rows or columns.\u001b[39;00m\n\u001b[0;32m   5209\u001b[0m \n\u001b[1;32m   (...)\u001b[0m\n\u001b[0;32m   5342\u001b[0m \u001b[38;5;124;03m            weight  1.0     0.8\u001b[39;00m\n\u001b[0;32m   5343\u001b[0m \u001b[38;5;124;03m    \"\"\"\u001b[39;00m\n\u001b[1;32m-> 5344\u001b[0m     \u001b[38;5;28;01mreturn\u001b[39;00m \u001b[38;5;28msuper\u001b[39m()\u001b[38;5;241m.\u001b[39mdrop(\n\u001b[0;32m   5345\u001b[0m         labels\u001b[38;5;241m=\u001b[39mlabels,\n\u001b[0;32m   5346\u001b[0m         axis\u001b[38;5;241m=\u001b[39maxis,\n\u001b[0;32m   5347\u001b[0m         index\u001b[38;5;241m=\u001b[39mindex,\n\u001b[0;32m   5348\u001b[0m         columns\u001b[38;5;241m=\u001b[39mcolumns,\n\u001b[0;32m   5349\u001b[0m         level\u001b[38;5;241m=\u001b[39mlevel,\n\u001b[0;32m   5350\u001b[0m         inplace\u001b[38;5;241m=\u001b[39minplace,\n\u001b[0;32m   5351\u001b[0m         errors\u001b[38;5;241m=\u001b[39merrors,\n\u001b[0;32m   5352\u001b[0m     )\n",
      "File \u001b[1;32mD:\\DataAlalytics\\Anaconda3\\Lib\\site-packages\\pandas\\core\\generic.py:4711\u001b[0m, in \u001b[0;36mNDFrame.drop\u001b[1;34m(self, labels, axis, index, columns, level, inplace, errors)\u001b[0m\n\u001b[0;32m   4709\u001b[0m \u001b[38;5;28;01mfor\u001b[39;00m axis, labels \u001b[38;5;129;01min\u001b[39;00m axes\u001b[38;5;241m.\u001b[39mitems():\n\u001b[0;32m   4710\u001b[0m     \u001b[38;5;28;01mif\u001b[39;00m labels \u001b[38;5;129;01mis\u001b[39;00m \u001b[38;5;129;01mnot\u001b[39;00m \u001b[38;5;28;01mNone\u001b[39;00m:\n\u001b[1;32m-> 4711\u001b[0m         obj \u001b[38;5;241m=\u001b[39m obj\u001b[38;5;241m.\u001b[39m_drop_axis(labels, axis, level\u001b[38;5;241m=\u001b[39mlevel, errors\u001b[38;5;241m=\u001b[39merrors)\n\u001b[0;32m   4713\u001b[0m \u001b[38;5;28;01mif\u001b[39;00m inplace:\n\u001b[0;32m   4714\u001b[0m     \u001b[38;5;28mself\u001b[39m\u001b[38;5;241m.\u001b[39m_update_inplace(obj)\n",
      "File \u001b[1;32mD:\\DataAlalytics\\Anaconda3\\Lib\\site-packages\\pandas\\core\\generic.py:4753\u001b[0m, in \u001b[0;36mNDFrame._drop_axis\u001b[1;34m(self, labels, axis, level, errors, only_slice)\u001b[0m\n\u001b[0;32m   4751\u001b[0m         new_axis \u001b[38;5;241m=\u001b[39m axis\u001b[38;5;241m.\u001b[39mdrop(labels, level\u001b[38;5;241m=\u001b[39mlevel, errors\u001b[38;5;241m=\u001b[39merrors)\n\u001b[0;32m   4752\u001b[0m     \u001b[38;5;28;01melse\u001b[39;00m:\n\u001b[1;32m-> 4753\u001b[0m         new_axis \u001b[38;5;241m=\u001b[39m axis\u001b[38;5;241m.\u001b[39mdrop(labels, errors\u001b[38;5;241m=\u001b[39merrors)\n\u001b[0;32m   4754\u001b[0m     indexer \u001b[38;5;241m=\u001b[39m axis\u001b[38;5;241m.\u001b[39mget_indexer(new_axis)\n\u001b[0;32m   4756\u001b[0m \u001b[38;5;66;03m# Case for non-unique axis\u001b[39;00m\n\u001b[0;32m   4757\u001b[0m \u001b[38;5;28;01melse\u001b[39;00m:\n",
      "File \u001b[1;32mD:\\DataAlalytics\\Anaconda3\\Lib\\site-packages\\pandas\\core\\indexes\\base.py:6992\u001b[0m, in \u001b[0;36mIndex.drop\u001b[1;34m(self, labels, errors)\u001b[0m\n\u001b[0;32m   6990\u001b[0m \u001b[38;5;28;01mif\u001b[39;00m mask\u001b[38;5;241m.\u001b[39many():\n\u001b[0;32m   6991\u001b[0m     \u001b[38;5;28;01mif\u001b[39;00m errors \u001b[38;5;241m!=\u001b[39m \u001b[38;5;124m\"\u001b[39m\u001b[38;5;124mignore\u001b[39m\u001b[38;5;124m\"\u001b[39m:\n\u001b[1;32m-> 6992\u001b[0m         \u001b[38;5;28;01mraise\u001b[39;00m \u001b[38;5;167;01mKeyError\u001b[39;00m(\u001b[38;5;124mf\u001b[39m\u001b[38;5;124m\"\u001b[39m\u001b[38;5;132;01m{\u001b[39;00mlabels[mask]\u001b[38;5;241m.\u001b[39mtolist()\u001b[38;5;132;01m}\u001b[39;00m\u001b[38;5;124m not found in axis\u001b[39m\u001b[38;5;124m\"\u001b[39m)\n\u001b[0;32m   6993\u001b[0m     indexer \u001b[38;5;241m=\u001b[39m indexer[\u001b[38;5;241m~\u001b[39mmask]\n\u001b[0;32m   6994\u001b[0m \u001b[38;5;28;01mreturn\u001b[39;00m \u001b[38;5;28mself\u001b[39m\u001b[38;5;241m.\u001b[39mdelete(indexer)\n",
      "\u001b[1;31mKeyError\u001b[0m: \"['Row_Number', 'Last_Name'] not found in axis\""
     ]
    }
   ],
   "source": [
    "#Permanantly dropping columns Row_Number and Last_Name from 5.4-PigEBank-Client-Data set.csv\n",
    "df_client = df_client.drop(columns = ['Row_Number', 'Last_Name'])"
   ]
  },
  {
   "cell_type": "code",
   "execution_count": 26,
   "id": "10732d54-ba37-40a6-b577-0f55e7fd5f8b",
   "metadata": {},
   "outputs": [
    {
     "data": {
      "text/html": [
       "<div>\n",
       "<style scoped>\n",
       "    .dataframe tbody tr th:only-of-type {\n",
       "        vertical-align: middle;\n",
       "    }\n",
       "\n",
       "    .dataframe tbody tr th {\n",
       "        vertical-align: top;\n",
       "    }\n",
       "\n",
       "    .dataframe thead th {\n",
       "        text-align: right;\n",
       "    }\n",
       "</style>\n",
       "<table border=\"1\" class=\"dataframe\">\n",
       "  <thead>\n",
       "    <tr style=\"text-align: right;\">\n",
       "      <th></th>\n",
       "      <th>Customer_ID</th>\n",
       "      <th>Credit Score</th>\n",
       "      <th>Country</th>\n",
       "      <th>Gender</th>\n",
       "      <th>Age</th>\n",
       "      <th>Tenure</th>\n",
       "      <th>Balance</th>\n",
       "      <th>NumOfProducts</th>\n",
       "      <th>HasCrCard?</th>\n",
       "      <th>IsActiveMember</th>\n",
       "      <th>Estimated Salary</th>\n",
       "      <th>ExitedFromBank?</th>\n",
       "    </tr>\n",
       "  </thead>\n",
       "  <tbody>\n",
       "    <tr>\n",
       "      <th>0</th>\n",
       "      <td>15634602</td>\n",
       "      <td>619.0</td>\n",
       "      <td>France</td>\n",
       "      <td>Female</td>\n",
       "      <td>42.0</td>\n",
       "      <td>2</td>\n",
       "      <td>$0.00</td>\n",
       "      <td>1</td>\n",
       "      <td>1</td>\n",
       "      <td>1</td>\n",
       "      <td>$101,348.88</td>\n",
       "      <td>1</td>\n",
       "    </tr>\n",
       "    <tr>\n",
       "      <th>1</th>\n",
       "      <td>15647311</td>\n",
       "      <td>608.0</td>\n",
       "      <td>Spain</td>\n",
       "      <td>Female</td>\n",
       "      <td>41.0</td>\n",
       "      <td>1</td>\n",
       "      <td>$83,807.86</td>\n",
       "      <td>1</td>\n",
       "      <td>0</td>\n",
       "      <td>1</td>\n",
       "      <td>$112,542.58</td>\n",
       "      <td>0</td>\n",
       "    </tr>\n",
       "    <tr>\n",
       "      <th>2</th>\n",
       "      <td>15619304</td>\n",
       "      <td>502.0</td>\n",
       "      <td>France</td>\n",
       "      <td>Female</td>\n",
       "      <td>42.0</td>\n",
       "      <td>8</td>\n",
       "      <td>$159,660.80</td>\n",
       "      <td>3</td>\n",
       "      <td>1</td>\n",
       "      <td>0</td>\n",
       "      <td>$113,931.57</td>\n",
       "      <td>1</td>\n",
       "    </tr>\n",
       "    <tr>\n",
       "      <th>3</th>\n",
       "      <td>15701354</td>\n",
       "      <td>699.0</td>\n",
       "      <td>France</td>\n",
       "      <td>Female</td>\n",
       "      <td>39.0</td>\n",
       "      <td>1</td>\n",
       "      <td>$0.00</td>\n",
       "      <td>2</td>\n",
       "      <td>0</td>\n",
       "      <td>0</td>\n",
       "      <td>$93,826.63</td>\n",
       "      <td>0</td>\n",
       "    </tr>\n",
       "    <tr>\n",
       "      <th>4</th>\n",
       "      <td>15737888</td>\n",
       "      <td>850.0</td>\n",
       "      <td>Spain</td>\n",
       "      <td>Female</td>\n",
       "      <td>43.0</td>\n",
       "      <td>2</td>\n",
       "      <td>$125,510.82</td>\n",
       "      <td>1</td>\n",
       "      <td>1</td>\n",
       "      <td>1</td>\n",
       "      <td>$79,084.10</td>\n",
       "      <td>0</td>\n",
       "    </tr>\n",
       "  </tbody>\n",
       "</table>\n",
       "</div>"
      ],
      "text/plain": [
       "  Customer_ID  Credit Score Country  Gender   Age  Tenure       Balance  \\\n",
       "0    15634602         619.0  France  Female  42.0       2        $0.00    \n",
       "1    15647311         608.0   Spain  Female  41.0       1   $83,807.86    \n",
       "2    15619304         502.0  France  Female  42.0       8  $159,660.80    \n",
       "3    15701354         699.0  France  Female  39.0       1        $0.00    \n",
       "4    15737888         850.0   Spain  Female  43.0       2  $125,510.82    \n",
       "\n",
       "   NumOfProducts  HasCrCard?  IsActiveMember Estimated Salary  ExitedFromBank?  \n",
       "0              1           1               1     $101,348.88                 1  \n",
       "1              1           0               1     $112,542.58                 0  \n",
       "2              3           1               0     $113,931.57                 1  \n",
       "3              2           0               0      $93,826.63                 0  \n",
       "4              1           1               1      $79,084.10                 0  "
      ]
     },
     "execution_count": 26,
     "metadata": {},
     "output_type": "execute_result"
    }
   ],
   "source": [
    "df_client.head()"
   ]
  },
  {
   "cell_type": "code",
   "execution_count": 16,
   "id": "e625d05d-7fb9-496f-ae82-d3333d3c338a",
   "metadata": {},
   "outputs": [],
   "source": [
    "#Changing data type on column Customer_ID from a number to a string \n",
    "df_client['Customer_ID'] = df_client['Customer_ID'].astype('str')"
   ]
  },
  {
   "cell_type": "code",
   "execution_count": 17,
   "id": "f9708ba7-2adb-4569-9849-034770f5fb64",
   "metadata": {},
   "outputs": [
    {
     "data": {
      "text/plain": [
       "dtype('O')"
      ]
     },
     "execution_count": 17,
     "metadata": {},
     "output_type": "execute_result"
    }
   ],
   "source": [
    "df_client['Customer_ID'].dtype"
   ]
  },
  {
   "cell_type": "code",
   "execution_count": 27,
   "id": "a033720f-bfd9-41dc-a354-c6ffc183fba3",
   "metadata": {},
   "outputs": [
    {
     "data": {
      "text/plain": [
       "Customer_ID         0\n",
       "Credit Score        3\n",
       "Country             0\n",
       "Gender              1\n",
       "Age                 1\n",
       "Tenure              0\n",
       "Balance             0\n",
       "NumOfProducts       0\n",
       "HasCrCard?          0\n",
       "IsActiveMember      0\n",
       "Estimated Salary    2\n",
       "ExitedFromBank?     0\n",
       "dtype: int64"
      ]
     },
     "execution_count": 27,
     "metadata": {},
     "output_type": "execute_result"
    }
   ],
   "source": [
    "#Finding missing values in df_client dataframe\n",
    "df_client.isnull().sum()"
   ]
  },
  {
   "cell_type": "code",
   "execution_count": 28,
   "id": "4028806a-4222-40b6-8e12-50cb4dd50eeb",
   "metadata": {},
   "outputs": [],
   "source": [
    "#View 3 missing values in Credit Score\n",
    "df_nan = df_client[df_client['Credit Score'].isnull()==True]"
   ]
  },
  {
   "cell_type": "code",
   "execution_count": 29,
   "id": "474982bc-2883-4adc-a04e-9b4ac0621d4e",
   "metadata": {},
   "outputs": [
    {
     "data": {
      "text/html": [
       "<div>\n",
       "<style scoped>\n",
       "    .dataframe tbody tr th:only-of-type {\n",
       "        vertical-align: middle;\n",
       "    }\n",
       "\n",
       "    .dataframe tbody tr th {\n",
       "        vertical-align: top;\n",
       "    }\n",
       "\n",
       "    .dataframe thead th {\n",
       "        text-align: right;\n",
       "    }\n",
       "</style>\n",
       "<table border=\"1\" class=\"dataframe\">\n",
       "  <thead>\n",
       "    <tr style=\"text-align: right;\">\n",
       "      <th></th>\n",
       "      <th>Customer_ID</th>\n",
       "      <th>Credit Score</th>\n",
       "      <th>Country</th>\n",
       "      <th>Gender</th>\n",
       "      <th>Age</th>\n",
       "      <th>Tenure</th>\n",
       "      <th>Balance</th>\n",
       "      <th>NumOfProducts</th>\n",
       "      <th>HasCrCard?</th>\n",
       "      <th>IsActiveMember</th>\n",
       "      <th>Estimated Salary</th>\n",
       "      <th>ExitedFromBank?</th>\n",
       "    </tr>\n",
       "  </thead>\n",
       "  <tbody>\n",
       "    <tr>\n",
       "      <th>204</th>\n",
       "      <td>15627801</td>\n",
       "      <td>NaN</td>\n",
       "      <td>ES</td>\n",
       "      <td>Male</td>\n",
       "      <td>33.0</td>\n",
       "      <td>3</td>\n",
       "      <td>$176,666.62</td>\n",
       "      <td>1</td>\n",
       "      <td>1</td>\n",
       "      <td>0</td>\n",
       "      <td>$94,670.77</td>\n",
       "      <td>0</td>\n",
       "    </tr>\n",
       "    <tr>\n",
       "      <th>214</th>\n",
       "      <td>15785542</td>\n",
       "      <td>NaN</td>\n",
       "      <td>DE</td>\n",
       "      <td>Male</td>\n",
       "      <td>26.0</td>\n",
       "      <td>4</td>\n",
       "      <td>$118,287.01</td>\n",
       "      <td>2</td>\n",
       "      <td>0</td>\n",
       "      <td>0</td>\n",
       "      <td>NaN</td>\n",
       "      <td>0</td>\n",
       "    </tr>\n",
       "    <tr>\n",
       "      <th>976</th>\n",
       "      <td>15570060</td>\n",
       "      <td>NaN</td>\n",
       "      <td>France</td>\n",
       "      <td>Female</td>\n",
       "      <td>43.0</td>\n",
       "      <td>8</td>\n",
       "      <td>$132,558.26</td>\n",
       "      <td>1</td>\n",
       "      <td>1</td>\n",
       "      <td>0</td>\n",
       "      <td>$67,046.83</td>\n",
       "      <td>1</td>\n",
       "    </tr>\n",
       "  </tbody>\n",
       "</table>\n",
       "</div>"
      ],
      "text/plain": [
       "    Customer_ID  Credit Score Country  Gender   Age  Tenure       Balance  \\\n",
       "204    15627801           NaN      ES    Male  33.0       3  $176,666.62    \n",
       "214    15785542           NaN      DE    Male  26.0       4  $118,287.01    \n",
       "976    15570060           NaN  France  Female  43.0       8  $132,558.26    \n",
       "\n",
       "     NumOfProducts  HasCrCard?  IsActiveMember Estimated Salary  \\\n",
       "204              1           1               0      $94,670.77    \n",
       "214              2           0               0              NaN   \n",
       "976              1           1               0      $67,046.83    \n",
       "\n",
       "     ExitedFromBank?  \n",
       "204                0  \n",
       "214                0  \n",
       "976                1  "
      ]
     },
     "execution_count": 29,
     "metadata": {},
     "output_type": "execute_result"
    }
   ],
   "source": [
    "df_nan"
   ]
  },
  {
   "cell_type": "code",
   "execution_count": 30,
   "id": "d5383344-0565-43e9-9be5-ab152cc472f5",
   "metadata": {},
   "outputs": [
    {
     "name": "stdout",
     "output_type": "stream",
     "text": [
      "<class 'pandas.core.frame.DataFrame'>\n",
      "RangeIndex: 991 entries, 0 to 990\n",
      "Data columns (total 12 columns):\n",
      " #   Column            Non-Null Count  Dtype  \n",
      "---  ------            --------------  -----  \n",
      " 0   Customer_ID       991 non-null    object \n",
      " 1   Credit Score      991 non-null    float64\n",
      " 2   Country           991 non-null    object \n",
      " 3   Gender            990 non-null    object \n",
      " 4   Age               990 non-null    float64\n",
      " 5   Tenure            991 non-null    int64  \n",
      " 6   Balance           991 non-null    object \n",
      " 7   NumOfProducts     991 non-null    int64  \n",
      " 8   HasCrCard?        991 non-null    int64  \n",
      " 9   IsActiveMember    991 non-null    int64  \n",
      " 10  Estimated Salary  989 non-null    object \n",
      " 11  ExitedFromBank?   991 non-null    int64  \n",
      "dtypes: float64(2), int64(5), object(5)\n",
      "memory usage: 93.0+ KB\n"
     ]
    }
   ],
   "source": [
    "#Imput the mean Credit Score to replace NaN's\n",
    "df_client_updated = df_client\n",
    "df_client_updated['Credit Score']=df_client_updated['Credit Score'].fillna(df_client_updated['Credit Score'].mean())\n",
    "df_client_updated.info()"
   ]
  },
  {
   "cell_type": "code",
   "execution_count": 32,
   "id": "d3467993-892e-43e4-bc1c-760255e1850a",
   "metadata": {},
   "outputs": [],
   "source": [
    "#View missing values in Gender\n",
    "df_nan = df_client[df_client['Gender'].isnull()==True]"
   ]
  },
  {
   "cell_type": "code",
   "execution_count": 33,
   "id": "28969f03-0523-4be1-90c1-8acba0994b4f",
   "metadata": {},
   "outputs": [
    {
     "data": {
      "text/html": [
       "<div>\n",
       "<style scoped>\n",
       "    .dataframe tbody tr th:only-of-type {\n",
       "        vertical-align: middle;\n",
       "    }\n",
       "\n",
       "    .dataframe tbody tr th {\n",
       "        vertical-align: top;\n",
       "    }\n",
       "\n",
       "    .dataframe thead th {\n",
       "        text-align: right;\n",
       "    }\n",
       "</style>\n",
       "<table border=\"1\" class=\"dataframe\">\n",
       "  <thead>\n",
       "    <tr style=\"text-align: right;\">\n",
       "      <th></th>\n",
       "      <th>Customer_ID</th>\n",
       "      <th>Credit Score</th>\n",
       "      <th>Country</th>\n",
       "      <th>Gender</th>\n",
       "      <th>Age</th>\n",
       "      <th>Tenure</th>\n",
       "      <th>Balance</th>\n",
       "      <th>NumOfProducts</th>\n",
       "      <th>HasCrCard?</th>\n",
       "      <th>IsActiveMember</th>\n",
       "      <th>Estimated Salary</th>\n",
       "      <th>ExitedFromBank?</th>\n",
       "    </tr>\n",
       "  </thead>\n",
       "  <tbody>\n",
       "    <tr>\n",
       "      <th>11</th>\n",
       "      <td>15737173</td>\n",
       "      <td>497.0</td>\n",
       "      <td>Spain</td>\n",
       "      <td>NaN</td>\n",
       "      <td>24.0</td>\n",
       "      <td>3</td>\n",
       "      <td>$0.00</td>\n",
       "      <td>2</td>\n",
       "      <td>1</td>\n",
       "      <td>0</td>\n",
       "      <td>$76,390.01</td>\n",
       "      <td>0</td>\n",
       "    </tr>\n",
       "  </tbody>\n",
       "</table>\n",
       "</div>"
      ],
      "text/plain": [
       "   Customer_ID  Credit Score Country Gender   Age  Tenure Balance  \\\n",
       "11    15737173         497.0   Spain    NaN  24.0       3  $0.00    \n",
       "\n",
       "    NumOfProducts  HasCrCard?  IsActiveMember Estimated Salary  \\\n",
       "11              2           1               0      $76,390.01    \n",
       "\n",
       "    ExitedFromBank?  \n",
       "11                0  "
      ]
     },
     "execution_count": 33,
     "metadata": {},
     "output_type": "execute_result"
    }
   ],
   "source": [
    "df_nan"
   ]
  },
  {
   "cell_type": "code",
   "execution_count": 34,
   "id": "105590ad-8fc7-4925-8130-f36e2367ec23",
   "metadata": {},
   "outputs": [],
   "source": [
    "#Imput the mode Gender to replace NaN\n",
    "df_client_updated = df_client\n",
    "df_client_updated['Gender']=df_client_updated['Gender'].fillna(df_client_updated['Gender'].mode())"
   ]
  },
  {
   "cell_type": "code",
   "execution_count": 35,
   "id": "09398882-2bd4-4801-ac3b-cbeeccc90f9d",
   "metadata": {},
   "outputs": [],
   "source": [
    "#View missing values in Age\n",
    "df_nan = df_client[df_client['Age'].isnull()==True]"
   ]
  },
  {
   "cell_type": "code",
   "execution_count": 36,
   "id": "f8ea1af3-52c6-4fa0-852c-1556a90ee265",
   "metadata": {},
   "outputs": [
    {
     "data": {
      "text/html": [
       "<div>\n",
       "<style scoped>\n",
       "    .dataframe tbody tr th:only-of-type {\n",
       "        vertical-align: middle;\n",
       "    }\n",
       "\n",
       "    .dataframe tbody tr th {\n",
       "        vertical-align: top;\n",
       "    }\n",
       "\n",
       "    .dataframe thead th {\n",
       "        text-align: right;\n",
       "    }\n",
       "</style>\n",
       "<table border=\"1\" class=\"dataframe\">\n",
       "  <thead>\n",
       "    <tr style=\"text-align: right;\">\n",
       "      <th></th>\n",
       "      <th>Customer_ID</th>\n",
       "      <th>Credit Score</th>\n",
       "      <th>Country</th>\n",
       "      <th>Gender</th>\n",
       "      <th>Age</th>\n",
       "      <th>Tenure</th>\n",
       "      <th>Balance</th>\n",
       "      <th>NumOfProducts</th>\n",
       "      <th>HasCrCard?</th>\n",
       "      <th>IsActiveMember</th>\n",
       "      <th>Estimated Salary</th>\n",
       "      <th>ExitedFromBank?</th>\n",
       "    </tr>\n",
       "  </thead>\n",
       "  <tbody>\n",
       "    <tr>\n",
       "      <th>22</th>\n",
       "      <td>15699309</td>\n",
       "      <td>510.0</td>\n",
       "      <td>Spain</td>\n",
       "      <td>Female</td>\n",
       "      <td>NaN</td>\n",
       "      <td>4</td>\n",
       "      <td>$0.00</td>\n",
       "      <td>1</td>\n",
       "      <td>1</td>\n",
       "      <td>0</td>\n",
       "      <td>$118,913.53</td>\n",
       "      <td>1</td>\n",
       "    </tr>\n",
       "  </tbody>\n",
       "</table>\n",
       "</div>"
      ],
      "text/plain": [
       "   Customer_ID  Credit Score Country  Gender  Age  Tenure Balance  \\\n",
       "22    15699309         510.0   Spain  Female  NaN       4  $0.00    \n",
       "\n",
       "    NumOfProducts  HasCrCard?  IsActiveMember Estimated Salary  \\\n",
       "22              1           1               0     $118,913.53    \n",
       "\n",
       "    ExitedFromBank?  \n",
       "22                1  "
      ]
     },
     "execution_count": 36,
     "metadata": {},
     "output_type": "execute_result"
    }
   ],
   "source": [
    "df_nan"
   ]
  },
  {
   "cell_type": "code",
   "execution_count": 37,
   "id": "384c80e3-165c-4a67-a9bd-d098e1cca755",
   "metadata": {},
   "outputs": [],
   "source": [
    "#Imput the median Age to replace NaN\n",
    "df_client_updated = df_client\n",
    "df_client_updated['Age']=df_client_updated['Age'].fillna(df_client_updated['Age'].median())"
   ]
  },
  {
   "cell_type": "code",
   "execution_count": 38,
   "id": "3c3a17c9-0779-4a30-b8d4-64afe9b3cdb9",
   "metadata": {},
   "outputs": [],
   "source": [
    "#Changing data type on column Age from a float to a number\n",
    "df_client['Age'] = df_client['Age'].astype('int')"
   ]
  },
  {
   "cell_type": "code",
   "execution_count": 39,
   "id": "c5b6c40f-3728-4daf-8283-56d35bf8a8ff",
   "metadata": {},
   "outputs": [],
   "source": [
    "#View missing values in Estimated Salary\n",
    "df_nan = df_client[df_client['Estimated Salary'].isnull()==True]"
   ]
  },
  {
   "cell_type": "code",
   "execution_count": 40,
   "id": "4c5a4333-7eca-494b-adba-7f956e44783f",
   "metadata": {},
   "outputs": [
    {
     "data": {
      "text/html": [
       "<div>\n",
       "<style scoped>\n",
       "    .dataframe tbody tr th:only-of-type {\n",
       "        vertical-align: middle;\n",
       "    }\n",
       "\n",
       "    .dataframe tbody tr th {\n",
       "        vertical-align: top;\n",
       "    }\n",
       "\n",
       "    .dataframe thead th {\n",
       "        text-align: right;\n",
       "    }\n",
       "</style>\n",
       "<table border=\"1\" class=\"dataframe\">\n",
       "  <thead>\n",
       "    <tr style=\"text-align: right;\">\n",
       "      <th></th>\n",
       "      <th>Customer_ID</th>\n",
       "      <th>Credit Score</th>\n",
       "      <th>Country</th>\n",
       "      <th>Gender</th>\n",
       "      <th>Age</th>\n",
       "      <th>Tenure</th>\n",
       "      <th>Balance</th>\n",
       "      <th>NumOfProducts</th>\n",
       "      <th>HasCrCard?</th>\n",
       "      <th>IsActiveMember</th>\n",
       "      <th>Estimated Salary</th>\n",
       "      <th>ExitedFromBank?</th>\n",
       "    </tr>\n",
       "  </thead>\n",
       "  <tbody>\n",
       "    <tr>\n",
       "      <th>21</th>\n",
       "      <td>15597945</td>\n",
       "      <td>636.000000</td>\n",
       "      <td>Spain</td>\n",
       "      <td>Female</td>\n",
       "      <td>32</td>\n",
       "      <td>8</td>\n",
       "      <td>$0.00</td>\n",
       "      <td>2</td>\n",
       "      <td>1</td>\n",
       "      <td>0</td>\n",
       "      <td>NaN</td>\n",
       "      <td>0</td>\n",
       "    </tr>\n",
       "    <tr>\n",
       "      <th>214</th>\n",
       "      <td>15785542</td>\n",
       "      <td>648.512146</td>\n",
       "      <td>DE</td>\n",
       "      <td>Male</td>\n",
       "      <td>26</td>\n",
       "      <td>4</td>\n",
       "      <td>$118,287.01</td>\n",
       "      <td>2</td>\n",
       "      <td>0</td>\n",
       "      <td>0</td>\n",
       "      <td>NaN</td>\n",
       "      <td>0</td>\n",
       "    </tr>\n",
       "  </tbody>\n",
       "</table>\n",
       "</div>"
      ],
      "text/plain": [
       "    Customer_ID  Credit Score Country  Gender  Age  Tenure       Balance  \\\n",
       "21     15597945    636.000000   Spain  Female   32       8        $0.00    \n",
       "214    15785542    648.512146      DE    Male   26       4  $118,287.01    \n",
       "\n",
       "     NumOfProducts  HasCrCard?  IsActiveMember Estimated Salary  \\\n",
       "21               2           1               0              NaN   \n",
       "214              2           0               0              NaN   \n",
       "\n",
       "     ExitedFromBank?  \n",
       "21                 0  \n",
       "214                0  "
      ]
     },
     "execution_count": 40,
     "metadata": {},
     "output_type": "execute_result"
    }
   ],
   "source": [
    "df_nan"
   ]
  },
  {
   "cell_type": "code",
   "execution_count": 43,
   "id": "dd94b3d4-f07d-49b5-b26c-7ab9e052ebac",
   "metadata": {},
   "outputs": [],
   "source": [
    "#Imput 0's in the Estimated Salary column to replace NaN\n",
    "df_client_updated = df_client\n",
    "df_client_updated['Estimated Salary']=df_client_updated['Estimated Salary'].fillna(0)"
   ]
  },
  {
   "cell_type": "code",
   "execution_count": 44,
   "id": "1953c47b-f541-45ad-85bf-62eb76a142ef",
   "metadata": {},
   "outputs": [
    {
     "data": {
      "text/plain": [
       "Customer_ID         0\n",
       "Credit Score        0\n",
       "Country             0\n",
       "Gender              1\n",
       "Age                 0\n",
       "Tenure              0\n",
       "Balance             0\n",
       "NumOfProducts       0\n",
       "HasCrCard?          0\n",
       "IsActiveMember      0\n",
       "Estimated Salary    0\n",
       "ExitedFromBank?     0\n",
       "dtype: int64"
      ]
     },
     "execution_count": 44,
     "metadata": {},
     "output_type": "execute_result"
    }
   ],
   "source": [
    "#Finding missing values in df_client dataframe\n",
    "df_client.isnull().sum()"
   ]
  },
  {
   "cell_type": "code",
   "execution_count": 45,
   "id": "4dbe327a-337b-42b0-a70b-5689f1360c39",
   "metadata": {},
   "outputs": [],
   "source": [
    "#View missing values in Gender\n",
    "df_nan = df_client[df_client['Gender'].isnull()==True]"
   ]
  },
  {
   "cell_type": "code",
   "execution_count": 46,
   "id": "0093e046-e1cd-4a57-827e-0bfc62253600",
   "metadata": {},
   "outputs": [
    {
     "data": {
      "text/html": [
       "<div>\n",
       "<style scoped>\n",
       "    .dataframe tbody tr th:only-of-type {\n",
       "        vertical-align: middle;\n",
       "    }\n",
       "\n",
       "    .dataframe tbody tr th {\n",
       "        vertical-align: top;\n",
       "    }\n",
       "\n",
       "    .dataframe thead th {\n",
       "        text-align: right;\n",
       "    }\n",
       "</style>\n",
       "<table border=\"1\" class=\"dataframe\">\n",
       "  <thead>\n",
       "    <tr style=\"text-align: right;\">\n",
       "      <th></th>\n",
       "      <th>Customer_ID</th>\n",
       "      <th>Credit Score</th>\n",
       "      <th>Country</th>\n",
       "      <th>Gender</th>\n",
       "      <th>Age</th>\n",
       "      <th>Tenure</th>\n",
       "      <th>Balance</th>\n",
       "      <th>NumOfProducts</th>\n",
       "      <th>HasCrCard?</th>\n",
       "      <th>IsActiveMember</th>\n",
       "      <th>Estimated Salary</th>\n",
       "      <th>ExitedFromBank?</th>\n",
       "    </tr>\n",
       "  </thead>\n",
       "  <tbody>\n",
       "    <tr>\n",
       "      <th>11</th>\n",
       "      <td>15737173</td>\n",
       "      <td>497.0</td>\n",
       "      <td>Spain</td>\n",
       "      <td>NaN</td>\n",
       "      <td>24</td>\n",
       "      <td>3</td>\n",
       "      <td>$0.00</td>\n",
       "      <td>2</td>\n",
       "      <td>1</td>\n",
       "      <td>0</td>\n",
       "      <td>$76,390.01</td>\n",
       "      <td>0</td>\n",
       "    </tr>\n",
       "  </tbody>\n",
       "</table>\n",
       "</div>"
      ],
      "text/plain": [
       "   Customer_ID  Credit Score Country Gender  Age  Tenure Balance  \\\n",
       "11    15737173         497.0   Spain    NaN   24       3  $0.00    \n",
       "\n",
       "    NumOfProducts  HasCrCard?  IsActiveMember Estimated Salary  \\\n",
       "11              2           1               0      $76,390.01    \n",
       "\n",
       "    ExitedFromBank?  \n",
       "11                0  "
      ]
     },
     "execution_count": 46,
     "metadata": {},
     "output_type": "execute_result"
    }
   ],
   "source": [
    "df_nan"
   ]
  },
  {
   "cell_type": "code",
   "execution_count": 48,
   "id": "1a3ca37e-9e47-4444-9177-62339545a906",
   "metadata": {},
   "outputs": [
    {
     "data": {
      "text/plain": [
       "'Male'"
      ]
     },
     "execution_count": 48,
     "metadata": {},
     "output_type": "execute_result"
    }
   ],
   "source": [
    "df_client.mode()['Gender'][0]"
   ]
  },
  {
   "cell_type": "code",
   "execution_count": 49,
   "id": "d1734ffa-a424-4c28-80c7-d6d19de4ac72",
   "metadata": {},
   "outputs": [
    {
     "data": {
      "text/html": [
       "<div>\n",
       "<style scoped>\n",
       "    .dataframe tbody tr th:only-of-type {\n",
       "        vertical-align: middle;\n",
       "    }\n",
       "\n",
       "    .dataframe tbody tr th {\n",
       "        vertical-align: top;\n",
       "    }\n",
       "\n",
       "    .dataframe thead th {\n",
       "        text-align: right;\n",
       "    }\n",
       "</style>\n",
       "<table border=\"1\" class=\"dataframe\">\n",
       "  <thead>\n",
       "    <tr style=\"text-align: right;\">\n",
       "      <th></th>\n",
       "      <th>Customer_ID</th>\n",
       "      <th>Credit Score</th>\n",
       "      <th>Country</th>\n",
       "      <th>Gender</th>\n",
       "      <th>Age</th>\n",
       "      <th>Tenure</th>\n",
       "      <th>Balance</th>\n",
       "      <th>NumOfProducts</th>\n",
       "      <th>HasCrCard?</th>\n",
       "      <th>IsActiveMember</th>\n",
       "      <th>Estimated Salary</th>\n",
       "      <th>ExitedFromBank?</th>\n",
       "    </tr>\n",
       "  </thead>\n",
       "  <tbody>\n",
       "    <tr>\n",
       "      <th>0</th>\n",
       "      <td>15634602</td>\n",
       "      <td>619.0</td>\n",
       "      <td>France</td>\n",
       "      <td>Female</td>\n",
       "      <td>42</td>\n",
       "      <td>2</td>\n",
       "      <td>$0.00</td>\n",
       "      <td>1</td>\n",
       "      <td>1</td>\n",
       "      <td>1</td>\n",
       "      <td>$101,348.88</td>\n",
       "      <td>1</td>\n",
       "    </tr>\n",
       "    <tr>\n",
       "      <th>1</th>\n",
       "      <td>15647311</td>\n",
       "      <td>608.0</td>\n",
       "      <td>Spain</td>\n",
       "      <td>Female</td>\n",
       "      <td>41</td>\n",
       "      <td>1</td>\n",
       "      <td>$83,807.86</td>\n",
       "      <td>1</td>\n",
       "      <td>0</td>\n",
       "      <td>1</td>\n",
       "      <td>$112,542.58</td>\n",
       "      <td>0</td>\n",
       "    </tr>\n",
       "    <tr>\n",
       "      <th>2</th>\n",
       "      <td>15619304</td>\n",
       "      <td>502.0</td>\n",
       "      <td>France</td>\n",
       "      <td>Female</td>\n",
       "      <td>42</td>\n",
       "      <td>8</td>\n",
       "      <td>$159,660.80</td>\n",
       "      <td>3</td>\n",
       "      <td>1</td>\n",
       "      <td>0</td>\n",
       "      <td>$113,931.57</td>\n",
       "      <td>1</td>\n",
       "    </tr>\n",
       "    <tr>\n",
       "      <th>3</th>\n",
       "      <td>15701354</td>\n",
       "      <td>699.0</td>\n",
       "      <td>France</td>\n",
       "      <td>Female</td>\n",
       "      <td>39</td>\n",
       "      <td>1</td>\n",
       "      <td>$0.00</td>\n",
       "      <td>2</td>\n",
       "      <td>0</td>\n",
       "      <td>0</td>\n",
       "      <td>$93,826.63</td>\n",
       "      <td>0</td>\n",
       "    </tr>\n",
       "    <tr>\n",
       "      <th>4</th>\n",
       "      <td>15737888</td>\n",
       "      <td>850.0</td>\n",
       "      <td>Spain</td>\n",
       "      <td>Female</td>\n",
       "      <td>43</td>\n",
       "      <td>2</td>\n",
       "      <td>$125,510.82</td>\n",
       "      <td>1</td>\n",
       "      <td>1</td>\n",
       "      <td>1</td>\n",
       "      <td>$79,084.10</td>\n",
       "      <td>0</td>\n",
       "    </tr>\n",
       "  </tbody>\n",
       "</table>\n",
       "</div>"
      ],
      "text/plain": [
       "  Customer_ID  Credit Score Country  Gender  Age  Tenure       Balance  \\\n",
       "0    15634602         619.0  France  Female   42       2        $0.00    \n",
       "1    15647311         608.0   Spain  Female   41       1   $83,807.86    \n",
       "2    15619304         502.0  France  Female   42       8  $159,660.80    \n",
       "3    15701354         699.0  France  Female   39       1        $0.00    \n",
       "4    15737888         850.0   Spain  Female   43       2  $125,510.82    \n",
       "\n",
       "   NumOfProducts  HasCrCard?  IsActiveMember Estimated Salary  ExitedFromBank?  \n",
       "0              1           1               1     $101,348.88                 1  \n",
       "1              1           0               1     $112,542.58                 0  \n",
       "2              3           1               0     $113,931.57                 1  \n",
       "3              2           0               0      $93,826.63                 0  \n",
       "4              1           1               1      $79,084.10                 0  "
      ]
     },
     "execution_count": 49,
     "metadata": {},
     "output_type": "execute_result"
    }
   ],
   "source": [
    "df_client_updated.head()"
   ]
  },
  {
   "cell_type": "code",
   "execution_count": 51,
   "id": "0eca0c29-f293-48ac-a9a9-260af052b1b6",
   "metadata": {},
   "outputs": [],
   "source": [
    "#Imput Male in the Gender column to replace NaN (Male is the mode gender)\n",
    "df_client_updated = df_client\n",
    "df_client_updated['Gender']=df_client_updated['Gender'].fillna('Male')"
   ]
  },
  {
   "cell_type": "code",
   "execution_count": 52,
   "id": "72e911bb-e9f8-4663-8867-6c4ca53b18b4",
   "metadata": {},
   "outputs": [
    {
     "data": {
      "text/html": [
       "<div>\n",
       "<style scoped>\n",
       "    .dataframe tbody tr th:only-of-type {\n",
       "        vertical-align: middle;\n",
       "    }\n",
       "\n",
       "    .dataframe tbody tr th {\n",
       "        vertical-align: top;\n",
       "    }\n",
       "\n",
       "    .dataframe thead th {\n",
       "        text-align: right;\n",
       "    }\n",
       "</style>\n",
       "<table border=\"1\" class=\"dataframe\">\n",
       "  <thead>\n",
       "    <tr style=\"text-align: right;\">\n",
       "      <th></th>\n",
       "      <th>Customer_ID</th>\n",
       "      <th>Credit Score</th>\n",
       "      <th>Country</th>\n",
       "      <th>Gender</th>\n",
       "      <th>Age</th>\n",
       "      <th>Tenure</th>\n",
       "      <th>Balance</th>\n",
       "      <th>NumOfProducts</th>\n",
       "      <th>HasCrCard?</th>\n",
       "      <th>IsActiveMember</th>\n",
       "      <th>Estimated Salary</th>\n",
       "      <th>ExitedFromBank?</th>\n",
       "    </tr>\n",
       "  </thead>\n",
       "  <tbody>\n",
       "    <tr>\n",
       "      <th>0</th>\n",
       "      <td>15634602</td>\n",
       "      <td>619.0</td>\n",
       "      <td>France</td>\n",
       "      <td>Female</td>\n",
       "      <td>42</td>\n",
       "      <td>2</td>\n",
       "      <td>$0.00</td>\n",
       "      <td>1</td>\n",
       "      <td>1</td>\n",
       "      <td>1</td>\n",
       "      <td>$101,348.88</td>\n",
       "      <td>1</td>\n",
       "    </tr>\n",
       "    <tr>\n",
       "      <th>1</th>\n",
       "      <td>15647311</td>\n",
       "      <td>608.0</td>\n",
       "      <td>Spain</td>\n",
       "      <td>Female</td>\n",
       "      <td>41</td>\n",
       "      <td>1</td>\n",
       "      <td>$83,807.86</td>\n",
       "      <td>1</td>\n",
       "      <td>0</td>\n",
       "      <td>1</td>\n",
       "      <td>$112,542.58</td>\n",
       "      <td>0</td>\n",
       "    </tr>\n",
       "    <tr>\n",
       "      <th>2</th>\n",
       "      <td>15619304</td>\n",
       "      <td>502.0</td>\n",
       "      <td>France</td>\n",
       "      <td>Female</td>\n",
       "      <td>42</td>\n",
       "      <td>8</td>\n",
       "      <td>$159,660.80</td>\n",
       "      <td>3</td>\n",
       "      <td>1</td>\n",
       "      <td>0</td>\n",
       "      <td>$113,931.57</td>\n",
       "      <td>1</td>\n",
       "    </tr>\n",
       "    <tr>\n",
       "      <th>3</th>\n",
       "      <td>15701354</td>\n",
       "      <td>699.0</td>\n",
       "      <td>France</td>\n",
       "      <td>Female</td>\n",
       "      <td>39</td>\n",
       "      <td>1</td>\n",
       "      <td>$0.00</td>\n",
       "      <td>2</td>\n",
       "      <td>0</td>\n",
       "      <td>0</td>\n",
       "      <td>$93,826.63</td>\n",
       "      <td>0</td>\n",
       "    </tr>\n",
       "    <tr>\n",
       "      <th>4</th>\n",
       "      <td>15737888</td>\n",
       "      <td>850.0</td>\n",
       "      <td>Spain</td>\n",
       "      <td>Female</td>\n",
       "      <td>43</td>\n",
       "      <td>2</td>\n",
       "      <td>$125,510.82</td>\n",
       "      <td>1</td>\n",
       "      <td>1</td>\n",
       "      <td>1</td>\n",
       "      <td>$79,084.10</td>\n",
       "      <td>0</td>\n",
       "    </tr>\n",
       "  </tbody>\n",
       "</table>\n",
       "</div>"
      ],
      "text/plain": [
       "  Customer_ID  Credit Score Country  Gender  Age  Tenure       Balance  \\\n",
       "0    15634602         619.0  France  Female   42       2        $0.00    \n",
       "1    15647311         608.0   Spain  Female   41       1   $83,807.86    \n",
       "2    15619304         502.0  France  Female   42       8  $159,660.80    \n",
       "3    15701354         699.0  France  Female   39       1        $0.00    \n",
       "4    15737888         850.0   Spain  Female   43       2  $125,510.82    \n",
       "\n",
       "   NumOfProducts  HasCrCard?  IsActiveMember Estimated Salary  ExitedFromBank?  \n",
       "0              1           1               1     $101,348.88                 1  \n",
       "1              1           0               1     $112,542.58                 0  \n",
       "2              3           1               0     $113,931.57                 1  \n",
       "3              2           0               0      $93,826.63                 0  \n",
       "4              1           1               1      $79,084.10                 0  "
      ]
     },
     "execution_count": 52,
     "metadata": {},
     "output_type": "execute_result"
    }
   ],
   "source": [
    "df_client_updated.head()"
   ]
  },
  {
   "cell_type": "code",
   "execution_count": 53,
   "id": "3b571cf7-421a-4335-8515-ea737ac39373",
   "metadata": {},
   "outputs": [
    {
     "data": {
      "text/plain": [
       "Customer_ID         0\n",
       "Credit Score        0\n",
       "Country             0\n",
       "Gender              0\n",
       "Age                 0\n",
       "Tenure              0\n",
       "Balance             0\n",
       "NumOfProducts       0\n",
       "HasCrCard?          0\n",
       "IsActiveMember      0\n",
       "Estimated Salary    0\n",
       "ExitedFromBank?     0\n",
       "dtype: int64"
      ]
     },
     "execution_count": 53,
     "metadata": {},
     "output_type": "execute_result"
    }
   ],
   "source": [
    "#Finding missing values in df_client dataframe\n",
    "df_client.isnull().sum()"
   ]
  },
  {
   "cell_type": "code",
   "execution_count": 55,
   "id": "e7ff2aa3-597b-4fdb-9d44-852359c64286",
   "metadata": {},
   "outputs": [
    {
     "data": {
      "text/plain": [
       "0      $101,348.88\n",
       "1      $112,542.58\n",
       "2      $113,931.57\n",
       "3       $93,826.63\n",
       "4       $79,084.10\n",
       "          ...     \n",
       "986     $79,616.37\n",
       "987    $102,299.81\n",
       "988    $104,533.51\n",
       "989    $140,765.57\n",
       "990     $66,214.13\n",
       "Name: Estimated Salary, Length: 991, dtype: object"
      ]
     },
     "execution_count": 55,
     "metadata": {},
     "output_type": "execute_result"
    }
   ],
   "source": [
    "#Strip whitespace off column Estimated Salary\n",
    "df_client['Estimated Salary'].str.strip()"
   ]
  },
  {
   "cell_type": "markdown",
   "id": "3bf94584-56c6-4ce0-9286-cef421866fb4",
   "metadata": {},
   "source": [
    "##Strip '$' and',' off the Estimated Salary Column. "
   ]
  },
  {
   "cell_type": "code",
   "execution_count": 57,
   "id": "0d144138-a0c1-4ba6-b30f-db8b017d7ab5",
   "metadata": {},
   "outputs": [
    {
     "data": {
      "text/plain": [
       "0      101348.88 \n",
       "1      112542.58 \n",
       "2      113931.57 \n",
       "3       93826.63 \n",
       "4       79084.10 \n",
       "          ...    \n",
       "986     79616.37 \n",
       "987    102299.81 \n",
       "988    104533.51 \n",
       "989    140765.57 \n",
       "990     66214.13 \n",
       "Name: Estimated Salary, Length: 991, dtype: object"
      ]
     },
     "execution_count": 57,
     "metadata": {},
     "output_type": "execute_result"
    }
   ],
   "source": [
    "df_client['Estimated Salary'] = df_client['Estimated Salary'].str.replace(',', '')\n",
    "df_client['Estimated Salary'] = df_client['Estimated Salary'].str.replace('$', '')\n",
    "df_client['Estimated Salary']"
   ]
  },
  {
   "cell_type": "code",
   "execution_count": 58,
   "id": "b1fa8b61-8a7d-4ca4-bbb8-7aaeb034d0f8",
   "metadata": {},
   "outputs": [],
   "source": [
    "#Changing data type on column Estimated Salary from a sting to a float\n",
    "df_client['Estimated Salary'] = df_client['Estimated Salary'].astype('float')"
   ]
  },
  {
   "cell_type": "markdown",
   "id": "ab969787-26c6-47de-a98f-f439e15435d0",
   "metadata": {},
   "source": [
    "##Strip '$' and',' off the Balance Column. "
   ]
  },
  {
   "cell_type": "code",
   "execution_count": 59,
   "id": "84d1ea78-d511-497a-bfd7-ebd4b92da454",
   "metadata": {},
   "outputs": [
    {
     "data": {
      "text/plain": [
       "0           0.00 \n",
       "1       83807.86 \n",
       "2      159660.80 \n",
       "3           0.00 \n",
       "4      125510.82 \n",
       "          ...    \n",
       "986    142120.91 \n",
       "987    151839.26 \n",
       "988    149620.88 \n",
       "989    168197.66 \n",
       "990     93147.00 \n",
       "Name: Balance, Length: 991, dtype: object"
      ]
     },
     "execution_count": 59,
     "metadata": {},
     "output_type": "execute_result"
    }
   ],
   "source": [
    "df_client['Balance'] = df_client['Balance'].str.replace(',', '')\n",
    "df_client['Balance'] = df_client['Balance'].str.replace('$', '')\n",
    "df_client['Balance']"
   ]
  },
  {
   "cell_type": "code",
   "execution_count": 60,
   "id": "b0991ba4-a255-4ceb-9f03-cbd7ab3db3a5",
   "metadata": {},
   "outputs": [],
   "source": [
    "#Changing data type on column Balance from a sting to a float\n",
    "df_client['Balance'] = df_client['Balance'].astype('float')"
   ]
  },
  {
   "cell_type": "code",
   "execution_count": 61,
   "id": "2968645f-d679-44ab-b3fc-fc7610d74a90",
   "metadata": {},
   "outputs": [
    {
     "data": {
      "text/plain": [
       "Customer_ID          object\n",
       "Credit Score        float64\n",
       "Country              object\n",
       "Gender               object\n",
       "Age                   int32\n",
       "Tenure                int64\n",
       "Balance             float64\n",
       "NumOfProducts         int64\n",
       "HasCrCard?            int64\n",
       "IsActiveMember        int64\n",
       "Estimated Salary    float64\n",
       "ExitedFromBank?       int64\n",
       "dtype: object"
      ]
     },
     "execution_count": 61,
     "metadata": {},
     "output_type": "execute_result"
    }
   ],
   "source": [
    "df_client.dtypes"
   ]
  },
  {
   "cell_type": "code",
   "execution_count": 62,
   "id": "6e60f4cf-d4a4-4d0a-b47a-35beeb6b6b99",
   "metadata": {},
   "outputs": [],
   "source": [
    "#Changing data type on column HasCrCard? from a number to a string \n",
    "df_client['HasCrCard?'] = df_client['HasCrCard?'].astype('str')"
   ]
  },
  {
   "cell_type": "code",
   "execution_count": 63,
   "id": "6761b678-8e0e-4fdb-8126-348d307be7da",
   "metadata": {},
   "outputs": [],
   "source": [
    "#Changing data type on column IsActiveMember from a number to a string \n",
    "df_client['IsActiveMember'] = df_client['IsActiveMember'].astype('str')"
   ]
  },
  {
   "cell_type": "code",
   "execution_count": 64,
   "id": "b5550c7e-8c9b-419c-8b0c-a56a6b3ecfd0",
   "metadata": {},
   "outputs": [],
   "source": [
    "#Changing data type on column ExitedFromBank? from a number to a string \n",
    "df_client['ExitedFromBank?'] = df_client['ExitedFromBank?'].astype('str')"
   ]
  },
  {
   "cell_type": "code",
   "execution_count": 65,
   "id": "1e102513-f7af-4895-9301-884540ee6090",
   "metadata": {},
   "outputs": [
    {
     "data": {
      "text/plain": [
       "Customer_ID          object\n",
       "Credit Score        float64\n",
       "Country              object\n",
       "Gender               object\n",
       "Age                   int32\n",
       "Tenure                int64\n",
       "Balance             float64\n",
       "NumOfProducts         int64\n",
       "HasCrCard?           object\n",
       "IsActiveMember       object\n",
       "Estimated Salary    float64\n",
       "ExitedFromBank?      object\n",
       "dtype: object"
      ]
     },
     "execution_count": 65,
     "metadata": {},
     "output_type": "execute_result"
    }
   ],
   "source": [
    "df_client.dtypes"
   ]
  },
  {
   "cell_type": "code",
   "execution_count": 66,
   "id": "fe3ac17a-1c75-4d37-812f-08eb7d722226",
   "metadata": {},
   "outputs": [
    {
     "data": {
      "text/html": [
       "<div>\n",
       "<style scoped>\n",
       "    .dataframe tbody tr th:only-of-type {\n",
       "        vertical-align: middle;\n",
       "    }\n",
       "\n",
       "    .dataframe tbody tr th {\n",
       "        vertical-align: top;\n",
       "    }\n",
       "\n",
       "    .dataframe thead th {\n",
       "        text-align: right;\n",
       "    }\n",
       "</style>\n",
       "<table border=\"1\" class=\"dataframe\">\n",
       "  <thead>\n",
       "    <tr style=\"text-align: right;\">\n",
       "      <th></th>\n",
       "      <th>Customer_ID</th>\n",
       "      <th>Credit Score</th>\n",
       "      <th>Country</th>\n",
       "      <th>Gender</th>\n",
       "      <th>Age</th>\n",
       "      <th>Tenure</th>\n",
       "      <th>Balance</th>\n",
       "      <th>NumOfProducts</th>\n",
       "      <th>HasCrCard?</th>\n",
       "      <th>IsActiveMember</th>\n",
       "      <th>Estimated Salary</th>\n",
       "      <th>ExitedFromBank?</th>\n",
       "    </tr>\n",
       "  </thead>\n",
       "  <tbody>\n",
       "    <tr>\n",
       "      <th>0</th>\n",
       "      <td>15634602</td>\n",
       "      <td>619.0</td>\n",
       "      <td>France</td>\n",
       "      <td>Female</td>\n",
       "      <td>42</td>\n",
       "      <td>2</td>\n",
       "      <td>0.00</td>\n",
       "      <td>1</td>\n",
       "      <td>1</td>\n",
       "      <td>1</td>\n",
       "      <td>101348.88</td>\n",
       "      <td>1</td>\n",
       "    </tr>\n",
       "    <tr>\n",
       "      <th>1</th>\n",
       "      <td>15647311</td>\n",
       "      <td>608.0</td>\n",
       "      <td>Spain</td>\n",
       "      <td>Female</td>\n",
       "      <td>41</td>\n",
       "      <td>1</td>\n",
       "      <td>83807.86</td>\n",
       "      <td>1</td>\n",
       "      <td>0</td>\n",
       "      <td>1</td>\n",
       "      <td>112542.58</td>\n",
       "      <td>0</td>\n",
       "    </tr>\n",
       "    <tr>\n",
       "      <th>2</th>\n",
       "      <td>15619304</td>\n",
       "      <td>502.0</td>\n",
       "      <td>France</td>\n",
       "      <td>Female</td>\n",
       "      <td>42</td>\n",
       "      <td>8</td>\n",
       "      <td>159660.80</td>\n",
       "      <td>3</td>\n",
       "      <td>1</td>\n",
       "      <td>0</td>\n",
       "      <td>113931.57</td>\n",
       "      <td>1</td>\n",
       "    </tr>\n",
       "    <tr>\n",
       "      <th>3</th>\n",
       "      <td>15701354</td>\n",
       "      <td>699.0</td>\n",
       "      <td>France</td>\n",
       "      <td>Female</td>\n",
       "      <td>39</td>\n",
       "      <td>1</td>\n",
       "      <td>0.00</td>\n",
       "      <td>2</td>\n",
       "      <td>0</td>\n",
       "      <td>0</td>\n",
       "      <td>93826.63</td>\n",
       "      <td>0</td>\n",
       "    </tr>\n",
       "    <tr>\n",
       "      <th>4</th>\n",
       "      <td>15737888</td>\n",
       "      <td>850.0</td>\n",
       "      <td>Spain</td>\n",
       "      <td>Female</td>\n",
       "      <td>43</td>\n",
       "      <td>2</td>\n",
       "      <td>125510.82</td>\n",
       "      <td>1</td>\n",
       "      <td>1</td>\n",
       "      <td>1</td>\n",
       "      <td>79084.10</td>\n",
       "      <td>0</td>\n",
       "    </tr>\n",
       "  </tbody>\n",
       "</table>\n",
       "</div>"
      ],
      "text/plain": [
       "  Customer_ID  Credit Score Country  Gender  Age  Tenure    Balance  \\\n",
       "0    15634602         619.0  France  Female   42       2       0.00   \n",
       "1    15647311         608.0   Spain  Female   41       1   83807.86   \n",
       "2    15619304         502.0  France  Female   42       8  159660.80   \n",
       "3    15701354         699.0  France  Female   39       1       0.00   \n",
       "4    15737888         850.0   Spain  Female   43       2  125510.82   \n",
       "\n",
       "   NumOfProducts HasCrCard? IsActiveMember  Estimated Salary ExitedFromBank?  \n",
       "0              1          1              1         101348.88               1  \n",
       "1              1          0              1         112542.58               0  \n",
       "2              3          1              0         113931.57               1  \n",
       "3              2          0              0          93826.63               0  \n",
       "4              1          1              1          79084.10               0  "
      ]
     },
     "execution_count": 66,
     "metadata": {},
     "output_type": "execute_result"
    }
   ],
   "source": [
    "df_client.head()"
   ]
  },
  {
   "cell_type": "code",
   "execution_count": 67,
   "id": "49ff2af8-ed9b-4976-836f-534aff6819ed",
   "metadata": {},
   "outputs": [],
   "source": [
    "#Changing data type on column Credit Score from a float to a number\n",
    "df_client['Credit Score'] = df_client['Credit Score'].astype('int')"
   ]
  },
  {
   "cell_type": "code",
   "execution_count": 68,
   "id": "569f8df0-d1dc-4bde-8989-8afc002d59b6",
   "metadata": {},
   "outputs": [
    {
     "data": {
      "text/plain": [
       "Customer_ID          object\n",
       "Credit Score          int32\n",
       "Country              object\n",
       "Gender               object\n",
       "Age                   int32\n",
       "Tenure                int64\n",
       "Balance             float64\n",
       "NumOfProducts         int64\n",
       "HasCrCard?           object\n",
       "IsActiveMember       object\n",
       "Estimated Salary    float64\n",
       "ExitedFromBank?      object\n",
       "dtype: object"
      ]
     },
     "execution_count": 68,
     "metadata": {},
     "output_type": "execute_result"
    }
   ],
   "source": [
    "df_client.dtypes"
   ]
  },
  {
   "cell_type": "code",
   "execution_count": 69,
   "id": "33305a40-d040-4ab9-818f-104e3480440d",
   "metadata": {},
   "outputs": [
    {
     "data": {
      "text/html": [
       "<div>\n",
       "<style scoped>\n",
       "    .dataframe tbody tr th:only-of-type {\n",
       "        vertical-align: middle;\n",
       "    }\n",
       "\n",
       "    .dataframe tbody tr th {\n",
       "        vertical-align: top;\n",
       "    }\n",
       "\n",
       "    .dataframe thead th {\n",
       "        text-align: right;\n",
       "    }\n",
       "</style>\n",
       "<table border=\"1\" class=\"dataframe\">\n",
       "  <thead>\n",
       "    <tr style=\"text-align: right;\">\n",
       "      <th></th>\n",
       "      <th>Customer_ID</th>\n",
       "      <th>Credit Score</th>\n",
       "      <th>Country</th>\n",
       "      <th>Gender</th>\n",
       "      <th>Age</th>\n",
       "      <th>Tenure</th>\n",
       "      <th>Balance</th>\n",
       "      <th>NumOfProducts</th>\n",
       "      <th>HasCrCard?</th>\n",
       "      <th>IsActiveMember</th>\n",
       "      <th>Estimated Salary</th>\n",
       "      <th>ExitedFromBank?</th>\n",
       "    </tr>\n",
       "  </thead>\n",
       "  <tbody>\n",
       "    <tr>\n",
       "      <th>0</th>\n",
       "      <td>15634602</td>\n",
       "      <td>619</td>\n",
       "      <td>France</td>\n",
       "      <td>Female</td>\n",
       "      <td>42</td>\n",
       "      <td>2</td>\n",
       "      <td>0.00</td>\n",
       "      <td>1</td>\n",
       "      <td>1</td>\n",
       "      <td>1</td>\n",
       "      <td>101348.88</td>\n",
       "      <td>1</td>\n",
       "    </tr>\n",
       "    <tr>\n",
       "      <th>1</th>\n",
       "      <td>15647311</td>\n",
       "      <td>608</td>\n",
       "      <td>Spain</td>\n",
       "      <td>Female</td>\n",
       "      <td>41</td>\n",
       "      <td>1</td>\n",
       "      <td>83807.86</td>\n",
       "      <td>1</td>\n",
       "      <td>0</td>\n",
       "      <td>1</td>\n",
       "      <td>112542.58</td>\n",
       "      <td>0</td>\n",
       "    </tr>\n",
       "    <tr>\n",
       "      <th>2</th>\n",
       "      <td>15619304</td>\n",
       "      <td>502</td>\n",
       "      <td>France</td>\n",
       "      <td>Female</td>\n",
       "      <td>42</td>\n",
       "      <td>8</td>\n",
       "      <td>159660.80</td>\n",
       "      <td>3</td>\n",
       "      <td>1</td>\n",
       "      <td>0</td>\n",
       "      <td>113931.57</td>\n",
       "      <td>1</td>\n",
       "    </tr>\n",
       "    <tr>\n",
       "      <th>3</th>\n",
       "      <td>15701354</td>\n",
       "      <td>699</td>\n",
       "      <td>France</td>\n",
       "      <td>Female</td>\n",
       "      <td>39</td>\n",
       "      <td>1</td>\n",
       "      <td>0.00</td>\n",
       "      <td>2</td>\n",
       "      <td>0</td>\n",
       "      <td>0</td>\n",
       "      <td>93826.63</td>\n",
       "      <td>0</td>\n",
       "    </tr>\n",
       "    <tr>\n",
       "      <th>4</th>\n",
       "      <td>15737888</td>\n",
       "      <td>850</td>\n",
       "      <td>Spain</td>\n",
       "      <td>Female</td>\n",
       "      <td>43</td>\n",
       "      <td>2</td>\n",
       "      <td>125510.82</td>\n",
       "      <td>1</td>\n",
       "      <td>1</td>\n",
       "      <td>1</td>\n",
       "      <td>79084.10</td>\n",
       "      <td>0</td>\n",
       "    </tr>\n",
       "  </tbody>\n",
       "</table>\n",
       "</div>"
      ],
      "text/plain": [
       "  Customer_ID  Credit Score Country  Gender  Age  Tenure    Balance  \\\n",
       "0    15634602           619  France  Female   42       2       0.00   \n",
       "1    15647311           608   Spain  Female   41       1   83807.86   \n",
       "2    15619304           502  France  Female   42       8  159660.80   \n",
       "3    15701354           699  France  Female   39       1       0.00   \n",
       "4    15737888           850   Spain  Female   43       2  125510.82   \n",
       "\n",
       "   NumOfProducts HasCrCard? IsActiveMember  Estimated Salary ExitedFromBank?  \n",
       "0              1          1              1         101348.88               1  \n",
       "1              1          0              1         112542.58               0  \n",
       "2              3          1              0         113931.57               1  \n",
       "3              2          0              0          93826.63               0  \n",
       "4              1          1              1          79084.10               0  "
      ]
     },
     "execution_count": 69,
     "metadata": {},
     "output_type": "execute_result"
    }
   ],
   "source": [
    "df_client.head()"
   ]
  },
  {
   "cell_type": "code",
   "execution_count": 70,
   "id": "43093d6f-c13b-4b5c-b9e8-62751fa211e2",
   "metadata": {},
   "outputs": [],
   "source": [
    "df_client['Country'].replace('FR', 'France', inplace=True)"
   ]
  },
  {
   "cell_type": "code",
   "execution_count": 71,
   "id": "cba4790d-ac7c-4485-a003-94b648627f3f",
   "metadata": {},
   "outputs": [],
   "source": [
    "df_client['Country'].replace('ES', 'Spain', inplace=True)"
   ]
  },
  {
   "cell_type": "code",
   "execution_count": 72,
   "id": "2bc79c62-3f64-4d25-a4ed-95d34a24e8d3",
   "metadata": {},
   "outputs": [],
   "source": [
    "df_client['Country'].replace('DE', 'Germany', inplace=True)"
   ]
  },
  {
   "cell_type": "code",
   "execution_count": 73,
   "id": "17ff2b6d-b07f-4d93-bd41-4b75b2c7572b",
   "metadata": {},
   "outputs": [
    {
     "name": "stdout",
     "output_type": "stream",
     "text": [
      "    Customer_ID  Credit Score Country  Gender  Age  Tenure    Balance  \\\n",
      "0      15634602           619  France  Female   42       2       0.00   \n",
      "1      15647311           608   Spain  Female   41       1   83807.86   \n",
      "2      15619304           502  France  Female   42       8  159660.80   \n",
      "3      15701354           699  France  Female   39       1       0.00   \n",
      "4      15737888           850   Spain  Female   43       2  125510.82   \n",
      "..          ...           ...     ...     ...  ...     ...        ...   \n",
      "986    15655339           566  France    Male   36       1  142120.91   \n",
      "987    15613749           569   Spain    Male   34       0  151839.26   \n",
      "988    15664521           659   Spain    Male   31       7  149620.88   \n",
      "989    15681206           722  France  Female   49       3  168197.66   \n",
      "990    15745527           655  France    Male   37       5   93147.00   \n",
      "\n",
      "     NumOfProducts HasCrCard? IsActiveMember  Estimated Salary ExitedFromBank?  \n",
      "0                1          1              1         101348.88               1  \n",
      "1                1          0              1         112542.58               0  \n",
      "2                3          1              0         113931.57               1  \n",
      "3                2          0              0          93826.63               0  \n",
      "4                1          1              1          79084.10               0  \n",
      "..             ...        ...            ...               ...             ...  \n",
      "986              1          1              0          79616.37               0  \n",
      "987              1          1              0         102299.81               1  \n",
      "988              2          1              1         104533.51               0  \n",
      "989              1          1              0         140765.57               1  \n",
      "990              2          1              0          66214.13               0  \n",
      "\n",
      "[991 rows x 12 columns]\n"
     ]
    }
   ],
   "source": [
    "print(df_client)"
   ]
  },
  {
   "cell_type": "code",
   "execution_count": 74,
   "id": "1ab73ffe-3575-471d-8d12-4b80c41aa277",
   "metadata": {},
   "outputs": [
    {
     "data": {
      "text/plain": [
       "Country\n",
       "France     480\n",
       "Germany    257\n",
       "Spain      254\n",
       "Name: count, dtype: int64"
      ]
     },
     "execution_count": 74,
     "metadata": {},
     "output_type": "execute_result"
    }
   ],
   "source": [
    "df_client['Country'].value_counts(dropna=False)"
   ]
  },
  {
   "cell_type": "code",
   "execution_count": 75,
   "id": "33a8e511-f1e4-46fe-9a28-cad113684128",
   "metadata": {},
   "outputs": [],
   "source": [
    "df_client['Age'].replace('2', '37', inplace=True)"
   ]
  },
  {
   "cell_type": "code",
   "execution_count": 76,
   "id": "f806eb53-2f80-4f2a-9c4e-ca11cfd54ada",
   "metadata": {},
   "outputs": [
    {
     "data": {
      "text/plain": [
       "Age\n",
       "36    59\n",
       "35    55\n",
       "37    46\n",
       "34    46\n",
       "31    43\n",
       "      ..\n",
       "68     1\n",
       "80     1\n",
       "73     1\n",
       "79     1\n",
       "74     1\n",
       "Name: count, Length: 61, dtype: int64"
      ]
     },
     "execution_count": 76,
     "metadata": {},
     "output_type": "execute_result"
    }
   ],
   "source": [
    "df_client['Age'].value_counts(dropna=False)"
   ]
  },
  {
   "cell_type": "code",
   "execution_count": 77,
   "id": "252d4e57-ed4e-47bb-a51a-a192905cc05d",
   "metadata": {},
   "outputs": [
    {
     "data": {
      "text/html": [
       "<div>\n",
       "<style scoped>\n",
       "    .dataframe tbody tr th:only-of-type {\n",
       "        vertical-align: middle;\n",
       "    }\n",
       "\n",
       "    .dataframe tbody tr th {\n",
       "        vertical-align: top;\n",
       "    }\n",
       "\n",
       "    .dataframe thead th {\n",
       "        text-align: right;\n",
       "    }\n",
       "</style>\n",
       "<table border=\"1\" class=\"dataframe\">\n",
       "  <thead>\n",
       "    <tr style=\"text-align: right;\">\n",
       "      <th></th>\n",
       "      <th>Credit Score</th>\n",
       "      <th>Age</th>\n",
       "      <th>Tenure</th>\n",
       "      <th>Balance</th>\n",
       "      <th>NumOfProducts</th>\n",
       "      <th>Estimated Salary</th>\n",
       "    </tr>\n",
       "  </thead>\n",
       "  <tbody>\n",
       "    <tr>\n",
       "      <th>count</th>\n",
       "      <td>991.000000</td>\n",
       "      <td>991.000000</td>\n",
       "      <td>991.000000</td>\n",
       "      <td>991.000000</td>\n",
       "      <td>991.000000</td>\n",
       "      <td>989.000000</td>\n",
       "    </tr>\n",
       "    <tr>\n",
       "      <th>mean</th>\n",
       "      <td>648.510595</td>\n",
       "      <td>38.683148</td>\n",
       "      <td>5.066599</td>\n",
       "      <td>78002.718063</td>\n",
       "      <td>1.522704</td>\n",
       "      <td>98574.543013</td>\n",
       "    </tr>\n",
       "    <tr>\n",
       "      <th>std</th>\n",
       "      <td>98.053952</td>\n",
       "      <td>10.952815</td>\n",
       "      <td>2.928371</td>\n",
       "      <td>62799.237345</td>\n",
       "      <td>0.573170</td>\n",
       "      <td>57224.716446</td>\n",
       "    </tr>\n",
       "    <tr>\n",
       "      <th>min</th>\n",
       "      <td>376.000000</td>\n",
       "      <td>2.000000</td>\n",
       "      <td>0.000000</td>\n",
       "      <td>0.000000</td>\n",
       "      <td>1.000000</td>\n",
       "      <td>371.050000</td>\n",
       "    </tr>\n",
       "    <tr>\n",
       "      <th>25%</th>\n",
       "      <td>580.000000</td>\n",
       "      <td>32.000000</td>\n",
       "      <td>2.000000</td>\n",
       "      <td>0.000000</td>\n",
       "      <td>1.000000</td>\n",
       "      <td>48559.190000</td>\n",
       "    </tr>\n",
       "    <tr>\n",
       "      <th>50%</th>\n",
       "      <td>653.000000</td>\n",
       "      <td>37.000000</td>\n",
       "      <td>5.000000</td>\n",
       "      <td>98668.180000</td>\n",
       "      <td>1.000000</td>\n",
       "      <td>98368.240000</td>\n",
       "    </tr>\n",
       "    <tr>\n",
       "      <th>75%</th>\n",
       "      <td>721.000000</td>\n",
       "      <td>44.000000</td>\n",
       "      <td>8.000000</td>\n",
       "      <td>129461.850000</td>\n",
       "      <td>2.000000</td>\n",
       "      <td>146326.450000</td>\n",
       "    </tr>\n",
       "    <tr>\n",
       "      <th>max</th>\n",
       "      <td>850.000000</td>\n",
       "      <td>82.000000</td>\n",
       "      <td>10.000000</td>\n",
       "      <td>213146.200000</td>\n",
       "      <td>4.000000</td>\n",
       "      <td>199725.390000</td>\n",
       "    </tr>\n",
       "  </tbody>\n",
       "</table>\n",
       "</div>"
      ],
      "text/plain": [
       "       Credit Score         Age      Tenure        Balance  NumOfProducts  \\\n",
       "count    991.000000  991.000000  991.000000     991.000000     991.000000   \n",
       "mean     648.510595   38.683148    5.066599   78002.718063       1.522704   \n",
       "std       98.053952   10.952815    2.928371   62799.237345       0.573170   \n",
       "min      376.000000    2.000000    0.000000       0.000000       1.000000   \n",
       "25%      580.000000   32.000000    2.000000       0.000000       1.000000   \n",
       "50%      653.000000   37.000000    5.000000   98668.180000       1.000000   \n",
       "75%      721.000000   44.000000    8.000000  129461.850000       2.000000   \n",
       "max      850.000000   82.000000   10.000000  213146.200000       4.000000   \n",
       "\n",
       "       Estimated Salary  \n",
       "count        989.000000  \n",
       "mean       98574.543013  \n",
       "std        57224.716446  \n",
       "min          371.050000  \n",
       "25%        48559.190000  \n",
       "50%        98368.240000  \n",
       "75%       146326.450000  \n",
       "max       199725.390000  "
      ]
     },
     "execution_count": 77,
     "metadata": {},
     "output_type": "execute_result"
    }
   ],
   "source": [
    "df_client.describe()"
   ]
  },
  {
   "cell_type": "code",
   "execution_count": 79,
   "id": "eb56765e-f0d9-4cb6-9a34-17d0f9143d07",
   "metadata": {},
   "outputs": [
    {
     "data": {
      "text/plain": [
       "Estimated Salary\n",
       "NaN          2\n",
       "101348.88    1\n",
       "160941.78    1\n",
       "9567.39      1\n",
       "132210.49    1\n",
       "            ..\n",
       "174652.51    1\n",
       "2010.98      1\n",
       "14109.85     1\n",
       "43527.40     1\n",
       "66214.13     1\n",
       "Name: count, Length: 990, dtype: int64"
      ]
     },
     "execution_count": 79,
     "metadata": {},
     "output_type": "execute_result"
    }
   ],
   "source": [
    "df_client['Estimated Salary'].value_counts(dropna=False)"
   ]
  },
  {
   "cell_type": "code",
   "execution_count": 80,
   "id": "a1fc66f3-1b6f-47ee-9893-b4b4842a70b1",
   "metadata": {},
   "outputs": [],
   "source": [
    "#Imput the median Estimated Salary to replace NaN\n",
    "df_client_updated = df_client\n",
    "df_client_updated['Estimated Salary']=df_client_updated['Estimated Salary'].fillna(df_client_updated['Estimated Salary'].median())"
   ]
  },
  {
   "cell_type": "code",
   "execution_count": 81,
   "id": "f91421d3-28b1-42a0-bbc9-8c96d8646839",
   "metadata": {},
   "outputs": [
    {
     "data": {
      "text/html": [
       "<div>\n",
       "<style scoped>\n",
       "    .dataframe tbody tr th:only-of-type {\n",
       "        vertical-align: middle;\n",
       "    }\n",
       "\n",
       "    .dataframe tbody tr th {\n",
       "        vertical-align: top;\n",
       "    }\n",
       "\n",
       "    .dataframe thead th {\n",
       "        text-align: right;\n",
       "    }\n",
       "</style>\n",
       "<table border=\"1\" class=\"dataframe\">\n",
       "  <thead>\n",
       "    <tr style=\"text-align: right;\">\n",
       "      <th></th>\n",
       "      <th>Credit Score</th>\n",
       "      <th>Age</th>\n",
       "      <th>Tenure</th>\n",
       "      <th>Balance</th>\n",
       "      <th>NumOfProducts</th>\n",
       "      <th>Estimated Salary</th>\n",
       "    </tr>\n",
       "  </thead>\n",
       "  <tbody>\n",
       "    <tr>\n",
       "      <th>count</th>\n",
       "      <td>991.000000</td>\n",
       "      <td>991.000000</td>\n",
       "      <td>991.000000</td>\n",
       "      <td>991.000000</td>\n",
       "      <td>991.000000</td>\n",
       "      <td>991.00000</td>\n",
       "    </tr>\n",
       "    <tr>\n",
       "      <th>mean</th>\n",
       "      <td>648.510595</td>\n",
       "      <td>38.683148</td>\n",
       "      <td>5.066599</td>\n",
       "      <td>78002.718063</td>\n",
       "      <td>1.522704</td>\n",
       "      <td>98574.12666</td>\n",
       "    </tr>\n",
       "    <tr>\n",
       "      <th>std</th>\n",
       "      <td>98.053952</td>\n",
       "      <td>10.952815</td>\n",
       "      <td>2.928371</td>\n",
       "      <td>62799.237345</td>\n",
       "      <td>0.573170</td>\n",
       "      <td>57166.88523</td>\n",
       "    </tr>\n",
       "    <tr>\n",
       "      <th>min</th>\n",
       "      <td>376.000000</td>\n",
       "      <td>2.000000</td>\n",
       "      <td>0.000000</td>\n",
       "      <td>0.000000</td>\n",
       "      <td>1.000000</td>\n",
       "      <td>371.05000</td>\n",
       "    </tr>\n",
       "    <tr>\n",
       "      <th>25%</th>\n",
       "      <td>580.000000</td>\n",
       "      <td>32.000000</td>\n",
       "      <td>2.000000</td>\n",
       "      <td>0.000000</td>\n",
       "      <td>1.000000</td>\n",
       "      <td>48642.43500</td>\n",
       "    </tr>\n",
       "    <tr>\n",
       "      <th>50%</th>\n",
       "      <td>653.000000</td>\n",
       "      <td>37.000000</td>\n",
       "      <td>5.000000</td>\n",
       "      <td>98668.180000</td>\n",
       "      <td>1.000000</td>\n",
       "      <td>98368.24000</td>\n",
       "    </tr>\n",
       "    <tr>\n",
       "      <th>75%</th>\n",
       "      <td>721.000000</td>\n",
       "      <td>44.000000</td>\n",
       "      <td>8.000000</td>\n",
       "      <td>129461.850000</td>\n",
       "      <td>2.000000</td>\n",
       "      <td>146236.19000</td>\n",
       "    </tr>\n",
       "    <tr>\n",
       "      <th>max</th>\n",
       "      <td>850.000000</td>\n",
       "      <td>82.000000</td>\n",
       "      <td>10.000000</td>\n",
       "      <td>213146.200000</td>\n",
       "      <td>4.000000</td>\n",
       "      <td>199725.39000</td>\n",
       "    </tr>\n",
       "  </tbody>\n",
       "</table>\n",
       "</div>"
      ],
      "text/plain": [
       "       Credit Score         Age      Tenure        Balance  NumOfProducts  \\\n",
       "count    991.000000  991.000000  991.000000     991.000000     991.000000   \n",
       "mean     648.510595   38.683148    5.066599   78002.718063       1.522704   \n",
       "std       98.053952   10.952815    2.928371   62799.237345       0.573170   \n",
       "min      376.000000    2.000000    0.000000       0.000000       1.000000   \n",
       "25%      580.000000   32.000000    2.000000       0.000000       1.000000   \n",
       "50%      653.000000   37.000000    5.000000   98668.180000       1.000000   \n",
       "75%      721.000000   44.000000    8.000000  129461.850000       2.000000   \n",
       "max      850.000000   82.000000   10.000000  213146.200000       4.000000   \n",
       "\n",
       "       Estimated Salary  \n",
       "count         991.00000  \n",
       "mean        98574.12666  \n",
       "std         57166.88523  \n",
       "min           371.05000  \n",
       "25%         48642.43500  \n",
       "50%         98368.24000  \n",
       "75%        146236.19000  \n",
       "max        199725.39000  "
      ]
     },
     "execution_count": 81,
     "metadata": {},
     "output_type": "execute_result"
    }
   ],
   "source": [
    "df_client_updated.describe()"
   ]
  },
  {
   "cell_type": "code",
   "execution_count": 82,
   "id": "14154cf6-4794-49c4-9f82-b5d17f64d47a",
   "metadata": {},
   "outputs": [
    {
     "data": {
      "text/plain": [
       "Estimated Salary\n",
       "98368.24     3\n",
       "101348.88    1\n",
       "160941.78    1\n",
       "9567.39      1\n",
       "132210.49    1\n",
       "            ..\n",
       "116828.51    1\n",
       "174652.51    1\n",
       "2010.98      1\n",
       "14109.85     1\n",
       "66214.13     1\n",
       "Name: count, Length: 989, dtype: int64"
      ]
     },
     "execution_count": 82,
     "metadata": {},
     "output_type": "execute_result"
    }
   ],
   "source": [
    "df_client_updated['Estimated Salary'].value_counts(dropna=False)"
   ]
  },
  {
   "cell_type": "code",
   "execution_count": 83,
   "id": "c3768955-db7a-48d0-91e3-ee4bfe7ecbfc",
   "metadata": {},
   "outputs": [
    {
     "data": {
      "text/plain": [
       "Customer_ID         0\n",
       "Credit Score        0\n",
       "Country             0\n",
       "Gender              0\n",
       "Age                 0\n",
       "Tenure              0\n",
       "Balance             0\n",
       "NumOfProducts       0\n",
       "HasCrCard?          0\n",
       "IsActiveMember      0\n",
       "Estimated Salary    0\n",
       "ExitedFromBank?     0\n",
       "dtype: int64"
      ]
     },
     "execution_count": 83,
     "metadata": {},
     "output_type": "execute_result"
    }
   ],
   "source": [
    "#Finding missing values in df_client_updated dataframe\n",
    "df_client_updated.isnull().sum()"
   ]
  },
  {
   "cell_type": "code",
   "execution_count": 89,
   "id": "51d6acfe-c9fc-4b55-8e14-dafedc8e6715",
   "metadata": {},
   "outputs": [
    {
     "name": "stdout",
     "output_type": "stream",
     "text": [
      "Customer_ID : string\n",
      "Credit Score : integer\n",
      "Country : string\n",
      "Gender : string\n",
      "Age : integer\n",
      "Tenure : integer\n",
      "Balance : floating\n",
      "NumOfProducts : integer\n",
      "HasCrCard? : string\n",
      "IsActiveMember : string\n",
      "Estimated Salary : floating\n",
      "ExitedFromBank? : string\n"
     ]
    }
   ],
   "source": [
    "#Check for mixed types\n",
    "for column in df_client_updated.columns:\n",
    "    print(column,':',pd.api.types.infer_dtype(df_client_updated[column]))"
   ]
  },
  {
   "cell_type": "markdown",
   "id": "9cc1dfd5-be85-42b1-a2d4-791a335b796c",
   "metadata": {},
   "source": [
    "##There are no mixed data types."
   ]
  },
  {
   "cell_type": "code",
   "execution_count": 87,
   "id": "497c1d57-a452-41df-a582-4f50a15ccaaf",
   "metadata": {},
   "outputs": [],
   "source": [
    "#Finding duplicates\n",
    "df_dups = df_client_updated[df_client_updated.duplicated()]"
   ]
  },
  {
   "cell_type": "code",
   "execution_count": 88,
   "id": "b6f293ea-5a92-4f2a-a689-0fc1a558b617",
   "metadata": {},
   "outputs": [
    {
     "data": {
      "text/html": [
       "<div>\n",
       "<style scoped>\n",
       "    .dataframe tbody tr th:only-of-type {\n",
       "        vertical-align: middle;\n",
       "    }\n",
       "\n",
       "    .dataframe tbody tr th {\n",
       "        vertical-align: top;\n",
       "    }\n",
       "\n",
       "    .dataframe thead th {\n",
       "        text-align: right;\n",
       "    }\n",
       "</style>\n",
       "<table border=\"1\" class=\"dataframe\">\n",
       "  <thead>\n",
       "    <tr style=\"text-align: right;\">\n",
       "      <th></th>\n",
       "      <th>Customer_ID</th>\n",
       "      <th>Credit Score</th>\n",
       "      <th>Country</th>\n",
       "      <th>Gender</th>\n",
       "      <th>Age</th>\n",
       "      <th>Tenure</th>\n",
       "      <th>Balance</th>\n",
       "      <th>NumOfProducts</th>\n",
       "      <th>HasCrCard?</th>\n",
       "      <th>IsActiveMember</th>\n",
       "      <th>Estimated Salary</th>\n",
       "      <th>ExitedFromBank?</th>\n",
       "    </tr>\n",
       "  </thead>\n",
       "  <tbody>\n",
       "  </tbody>\n",
       "</table>\n",
       "</div>"
      ],
      "text/plain": [
       "Empty DataFrame\n",
       "Columns: [Customer_ID, Credit Score, Country, Gender, Age, Tenure, Balance, NumOfProducts, HasCrCard?, IsActiveMember, Estimated Salary, ExitedFromBank?]\n",
       "Index: []"
      ]
     },
     "execution_count": 88,
     "metadata": {},
     "output_type": "execute_result"
    }
   ],
   "source": [
    "df_dups"
   ]
  },
  {
   "cell_type": "markdown",
   "id": "c387f2b7-2477-4fd9-bf6a-71860af20084",
   "metadata": {},
   "source": [
    "##There are no duplicate records."
   ]
  },
  {
   "cell_type": "code",
   "execution_count": 90,
   "id": "6ade5c8b-b28e-4070-ba34-2f3f773c7e62",
   "metadata": {},
   "outputs": [],
   "source": [
    "##Export final cleaned df_client_updated\n",
    "df_client_updated.to_csv(os.path.join(path, '02 Data','Prepared Data', 'client_checked.csv'))"
   ]
  },
  {
   "cell_type": "code",
   "execution_count": null,
   "id": "4d5b709d-e77c-4a6e-bbb4-997cc6b9ec35",
   "metadata": {},
   "outputs": [],
   "source": []
  }
 ],
 "metadata": {
  "kernelspec": {
   "display_name": "Python 3 (ipykernel)",
   "language": "python",
   "name": "python3"
  },
  "language_info": {
   "codemirror_mode": {
    "name": "ipython",
    "version": 3
   },
   "file_extension": ".py",
   "mimetype": "text/x-python",
   "name": "python",
   "nbconvert_exporter": "python",
   "pygments_lexer": "ipython3",
   "version": "3.11.5"
  }
 },
 "nbformat": 4,
 "nbformat_minor": 5
}
